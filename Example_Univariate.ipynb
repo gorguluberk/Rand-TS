{
 "cells": [
  {
   "cell_type": "markdown",
   "metadata": {},
   "source": [
    "# Imports"
   ]
  },
  {
   "cell_type": "code",
   "execution_count": 1,
   "metadata": {},
   "outputs": [],
   "source": [
    "import numpy as np\n",
    "import pandas as pd\n",
    "from os import listdir\n",
    "import os\n",
    "import time\n",
    "from RandTS import *\n"
   ]
  },
  {
   "cell_type": "code",
   "execution_count": 2,
   "metadata": {},
   "outputs": [],
   "source": [
    "# Set your dataset directory and get the datasets inside.\n",
    "directory = r'Dataset\\\\'\n",
    "datasets = listdir(directory)"
   ]
  },
  {
   "cell_type": "code",
   "execution_count": 3,
   "metadata": {},
   "outputs": [],
   "source": [
    "# Create a RandTS instance.\n",
    "r = RandTS()\n",
    "\n",
    "# Add dataset directory to your RandTS instance.\n",
    "r.addDatasetDirectory(directory)"
   ]
  },
  {
   "cell_type": "markdown",
   "metadata": {},
   "source": [
    "# Parameter Selection"
   ]
  },
  {
   "cell_type": "code",
   "execution_count": 4,
   "metadata": {},
   "outputs": [
    {
     "name": "stdout",
     "output_type": "stream",
     "text": [
      "Parameter selection is completed\n",
      "method              d\n",
      "normalize       False\n",
      "depth              10\n",
      "var                 0\n",
      "oob_acc      0.883333\n",
      "Name: 0, dtype: object\n"
     ]
    }
   ],
   "source": [
    "# Apply parameter selection. Selected parameters will be hold inside RandTS instance which can be used in future steps.\n",
    "r.selectParameters('ArrowHead',param_kwargs = {'depth_cv':[3,5,10], 'ntree_cv':[100], 'rep_num':5, 'method_cv':['l','d','b']})\n"
   ]
  },
  {
   "cell_type": "markdown",
   "metadata": {},
   "source": [
    "# Train and Test RandTS on the Given Dataset"
   ]
  },
  {
   "cell_type": "code",
   "execution_count": 6,
   "metadata": {},
   "outputs": [
    {
     "name": "stdout",
     "output_type": "stream",
     "text": [
      "Replication  0\n",
      "Test Accuracy : 0.8114285714285714\n",
      "Replication  1\n",
      "Test Accuracy : 0.8228571428571428\n",
      "Replication  2\n",
      "Test Accuracy : 0.8285714285714286\n",
      "Replication  3\n",
      "Test Accuracy : 0.8171428571428572\n",
      "Replication  4\n",
      "Test Accuracy : 0.8057142857142857\n",
      "Replication  5\n",
      "Test Accuracy : 0.8342857142857143\n",
      "Replication  6\n",
      "Test Accuracy : 0.8114285714285714\n",
      "Replication  7\n",
      "Test Accuracy : 0.8228571428571428\n",
      "Replication  8\n",
      "Test Accuracy : 0.8228571428571428\n",
      "Replication  9\n",
      "Test Accuracy : 0.8228571428571428\n"
     ]
    }
   ],
   "source": [
    "for i in range(10):\n",
    "    print('Replication ',i)\n",
    "    test_acc, predictions = r.train_test('ArrowHead')\n",
    "    "
   ]
  }
 ],
 "metadata": {
  "kernelspec": {
   "display_name": "Python 3",
   "language": "python",
   "name": "python3"
  },
  "language_info": {
   "codemirror_mode": {
    "name": "ipython",
    "version": 3
   },
   "file_extension": ".py",
   "mimetype": "text/x-python",
   "name": "python",
   "nbconvert_exporter": "python",
   "pygments_lexer": "ipython3",
   "version": "3.7.3"
  }
 },
 "nbformat": 4,
 "nbformat_minor": 4
}
