{
 "cells": [
  {
   "cell_type": "markdown",
   "metadata": {},
   "source": [
    "# Imports"
   ]
  },
  {
   "cell_type": "code",
   "execution_count": 1,
   "metadata": {},
   "outputs": [],
   "source": [
    "import numpy as np\n",
    "import pandas as pd\n",
    "from os import listdir\n",
    "import os\n",
    "import time\n",
    "import gc\n",
    "from src import *"
   ]
  },
  {
   "cell_type": "code",
   "execution_count": 2,
   "metadata": {},
   "outputs": [],
   "source": [
    "directory = r'Dataset\\\\'\n",
    "datasets = listdir(directory)"
   ]
  },
  {
   "cell_type": "markdown",
   "metadata": {},
   "source": [
    "# Parameter Selection"
   ]
  },
  {
   "cell_type": "code",
   "execution_count": 9,
   "metadata": {
    "scrolled": true
   },
   "outputs": [
    {
     "name": "stdout",
     "output_type": "stream",
     "text": [
      "Parameter selection is completed\n",
      "method              d\n",
      "normalize       False\n",
      "depth              10\n",
      "var                 0\n",
      "oob_acc      0.888889\n",
      "Name: 0, dtype: object\n"
     ]
    }
   ],
   "source": [
    "results = pd.DataFrame(columns=['data_name','method','distance_measure','normalize','rep','depth','ntree','oob_acc'])\n",
    "\n",
    "depth_cv = [3,5,10]\n",
    "ntree_cv = [100]\n",
    "term_cv = [True]\n",
    "rep_num = 1\n",
    "method_list = ['l','d','b']\n",
    "distance_list = ['manhattan']\n",
    "normal_list = [False]\n",
    "batch_list = list(range(10))\n",
    "batch_list2 = list(range(100))\n",
    "\n",
    "\n",
    "for d in datasets:\n",
    "\tdata_name = d\n",
    "\t#print(data_name)\n",
    "\ttrain,test,labels_train,labels_test,X_train,X_test = load_data_new(directory,data_name)\n",
    "\t#print(data_name+\" is loaded!\")\n",
    "\tresults = pd.DataFrame(columns=['data_name','method','distance_measure','normalize','rep','depth','ntree','var','oob_acc'])\n",
    "\tparam_time = time.time()\n",
    "\t\n",
    "\tfor method in method_list:\n",
    "\n",
    "\t\trepresent_train, represent_test, train_id, test_id = prepare_data(X_train,X_test,mode=method)\n",
    "\t\t#print(data_name+\" is prepared!\")\n",
    "\t\t#print(\"CV starts\")\n",
    "\t\tfor distance_measure in distance_list:\n",
    "\t\t\tfor rep in range(rep_num):\n",
    "\t\t\t\t#print(rep)\n",
    "\t\t\t\tfor depth in depth_cv:\n",
    "\t\t\t\t\tfor ntree in ntree_cv:\n",
    "\t\t\t\t\t\tfor is_terminal in term_cv: \n",
    "\t\t\t\t\t\t\tfor n in [0]:\n",
    "\t\t\t\t\t\t\t\tfirst = True\n",
    "\t\t\t\t\t\t\t\tcounter = 0\n",
    "\t\t\t\t\t\t\t\tfor b in batch_list:\n",
    "\t\t\t\t\t\t\t\t\trepresent_train, represent_test, train_id, test_id = prepare_data(X_train,X_test,mode=method)\n",
    "\t\t\t\t\t\t\t\t\trepresent_train['Id'] = train_id\n",
    "\t\t\t\t\t\t\t\t\trepresent_train = represent_train.dropna()\n",
    "\t\t\t\t\t\t\t\t\ttrain_id = represent_train['Id'].values\n",
    "\t\t\t\t\t\t\t\t\trepresent_train = represent_train.drop(columns = ['Id'])\n",
    "\n",
    "\n",
    "\t\t\t\t\t\t\t\t\trepresent_test['Id'] = test_id\n",
    "\t\t\t\t\t\t\t\t\trepresent_test = represent_test.dropna()\n",
    "\t\t\t\t\t\t\t\t\ttest_id = represent_test['Id'].values\n",
    "\t\t\t\t\t\t\t\t\trepresent_test = represent_test.drop(columns = ['Id'])\n",
    "                                    \n",
    "\t\t\t\t\t\t\t\t\ttrainbow,testbow = learn_representation_sparse_2(represent_train, None,labels_train,labels_test, train_id, test_id, depth, int(ntree/len(batch_list)),rep*1000+counter, is_terminal,normal=False)\n",
    "\t\t\t\t\t\t\t\t\tcounter = counter +1                    \n",
    "                                    \n",
    "\t\t\t\t\t\t\t\t\tif first is True:\n",
    "\t\t\t\t\t\t\t\t\t\tdistTrain=pairwise_distances(trainbow,metric=\"manhattan\",n_jobs=-1)       \n",
    "\t\t\t\t\t\t\t\t\t\tfirst = False\n",
    "\t\t\t\t\t\t\t\t\telse:\n",
    "\t\t\t\t\t\t\t\t\t\tdistTrain=distTrain+ pairwise_distances(trainbow,metric=\"manhattan\",n_jobs=-1)\n",
    "\t\t\t\t\t\t\t\t\tdel trainbow\n",
    "\t\t\t\t\t\t\t\t\tdel testbow\n",
    "\t\t\t\t\t\t\t\t\tgc.collect()\n",
    "\t\t\t\t\t\t\t\tnp.fill_diagonal(distTrain, 1000000000000)\n",
    "\t\t\t\t\t\t\t\tnncl=KNeighborsClassifier(n_neighbors=1,metric='precomputed')\n",
    "\t\t\t\t\t\t\t\tnnfit=nncl.fit(distTrain,labels_train)\n",
    "\t\t\t\t\t\t\t\tpredicted_train = nnfit.predict(distTrain)\n",
    "\t\t\t\t\t\t\t\tcv_accuracy = accuracy_score(labels_train,predicted_train)\n",
    "\t\t\t\t\t\t\t\ttemp_results = pd.DataFrame({'data_name':[data_name],'method':method,'distance_measure':[distance_measure],'normalize':[False],'rep':[rep+1],'depth':[depth],'ntree':[ntree],'var':[n],'type':[is_terminal],'oob_acc':[cv_accuracy]})\n",
    "\n",
    "\t\t\t\t\t\t\t\tresults = results.append(temp_results,sort=False)\n",
    "                                \n",
    "summary = results.groupby(['method','normalize','depth','var']).mean().reset_index()[results.groupby(['method','normalize','depth','var']).mean().reset_index()['oob_acc'] == results.groupby(['method','normalize','depth','var']).mean().reset_index()['oob_acc'].max()].reset_index(drop=True).sort_values(['method'],ascending=False).iloc[0]\n",
    "\n",
    "method = summary['method']\n",
    "n = summary['normalize']\n",
    "depth = summary['depth']\n",
    "var = summary['var']\n",
    "print('Parameter selection is completed')\n",
    "print(summary)"
   ]
  },
  {
   "cell_type": "markdown",
   "metadata": {},
   "source": [
    "# Testing"
   ]
  },
  {
   "cell_type": "code",
   "execution_count": 12,
   "metadata": {},
   "outputs": [
    {
     "name": "stdout",
     "output_type": "stream",
     "text": [
      "Rep:  0  Test Accuracy:  0.8285714285714286\n",
      "Rep:  1  Test Accuracy:  0.8171428571428572\n",
      "Rep:  2  Test Accuracy:  0.8228571428571428\n",
      "Rep:  3  Test Accuracy:  0.8171428571428572\n",
      "Rep:  4  Test Accuracy:  0.8\n"
     ]
    }
   ],
   "source": [
    "test_results = pd.DataFrame()\n",
    "nof_test_replicate = 5\n",
    "for rep in range(nof_test_replicate):\n",
    "    train_time = time.time()\n",
    "    first = True\n",
    "    counter = 0\n",
    "    for b in batch_list2:\n",
    "\n",
    "        represent_train, represent_test, train_id, test_id = prepare_data(X_train,X_test,mode=method)\n",
    "\n",
    "        represent_train['Id'] = train_id\n",
    "        represent_train = represent_train.dropna()\n",
    "\n",
    "\n",
    "        train_id = represent_train['Id'].values\n",
    "        represent_train = represent_train.drop(columns = ['Id'])\n",
    "\n",
    "\n",
    "        represent_test['Id'] = test_id\n",
    "        represent_test = represent_test.dropna()\n",
    "\n",
    "        test_id = represent_test['Id'].values\n",
    "        represent_test = represent_test.drop(columns = ['Id'])\n",
    "\n",
    "        trainbow,testbow = learn_representation_sparse_2(represent_train, represent_test,labels_train,labels_test, train_id, test_id, depth, int(500/len(batch_list2)),rep*1000+counter, is_terminal,normal=n)\n",
    "        counter = counter +1\n",
    "\n",
    "        trainbow_1 = trainbow\n",
    "        testbow_1 = testbow   \n",
    "\n",
    "\n",
    "        if first is True:\n",
    "            distTrainTest=pairwise_distances(trainbow_1,testbow_1,metric='manhattan',n_jobs=-1) \n",
    "            first = False\n",
    "        else:\n",
    "            distTrainTest = distTrainTest +pairwise_distances(trainbow_1,testbow_1,metric='manhattan',n_jobs = -1) \n",
    "        del trainbow\n",
    "        del testbow\n",
    "        gc.collect()\n",
    "\n",
    "    train_time = time.time()-train_time\n",
    "    test_time = time.time()\n",
    "    predicted_test = np.array(labels_train)[np.argmin(distTrainTest, axis=0)]\n",
    "    test_accuracy=accuracy_score(labels_test,predicted_test)\n",
    "\n",
    "    test_time = time.time()-test_time\n",
    "    temp_results = pd.DataFrame({'data_name':[data_name],'method':method,'distance_measure':[distance_measure],'normalize':[n],'rep':[rep+1],'depth':[depth],'ntree':[400],'type':[is_terminal],'test_acc':[test_accuracy],'param_time':[np.round(param_time,1)],'train_time':[np.round(train_time,1)],'test_time':[np.round(test_time,1)]})\n",
    "    test_results = test_results.append(temp_results,sort=False)\n",
    "    print('Rep: ',rep,' Test Accuracy: ',test_accuracy)\n"
   ]
  }
 ],
 "metadata": {
  "kernelspec": {
   "display_name": "Python 3",
   "language": "python",
   "name": "python3"
  },
  "language_info": {
   "codemirror_mode": {
    "name": "ipython",
    "version": 3
   },
   "file_extension": ".py",
   "mimetype": "text/x-python",
   "name": "python",
   "nbconvert_exporter": "python",
   "pygments_lexer": "ipython3",
   "version": "3.7.3"
  }
 },
 "nbformat": 4,
 "nbformat_minor": 4
}
