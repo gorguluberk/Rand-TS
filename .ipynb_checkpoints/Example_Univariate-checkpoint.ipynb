{
 "cells": [
  {
   "cell_type": "markdown",
   "metadata": {},
   "source": [
    "# Univariate Example"
   ]
  },
  {
   "cell_type": "code",
   "execution_count": 1,
   "metadata": {},
   "outputs": [],
   "source": [
    "#Imports\n",
    "import numpy as np\n",
    "import pandas as pd\n",
    "from os import listdir\n",
    "import os\n",
    "import time\n",
    "from RandTS import *"
   ]
  },
  {
   "cell_type": "code",
   "execution_count": 2,
   "metadata": {},
   "outputs": [],
   "source": [
    "# Set your dataset directory and get the datasets inside.\n",
    "directory = r'Dataset_Univariate\\\\'\n",
    "datasets = listdir(directory)"
   ]
  },
  {
   "cell_type": "code",
   "execution_count": 3,
   "metadata": {},
   "outputs": [],
   "source": [
    "# Create a RandTS instance.\n",
    "r = RandTS()\n",
    "\n",
    "# Add dataset directory to your RandTS instance.\n",
    "r.addDatasetDirectory(directory)"
   ]
  },
  {
   "cell_type": "code",
   "execution_count": 4,
   "metadata": {},
   "outputs": [],
   "source": [
    "# Load data\n",
    "train,test,labels_train,labels_test,X_train,X_test = load_data_new(directory, datasets[0])"
   ]
  },
  {
   "cell_type": "code",
   "execution_count": 5,
   "metadata": {},
   "outputs": [],
   "source": [
    "# Train the model\n",
    "r.fit(X_train,labels_train)"
   ]
  },
  {
   "cell_type": "code",
   "execution_count": 6,
   "metadata": {},
   "outputs": [
    {
     "name": "stdout",
     "output_type": "stream",
     "text": [
      "[2 2 0 0 0 0 2 1 0 1 0 0 0 1 2 2 1 1 0 0 1 0 0 2 2 2 0 2 0 2 0 0 2 0 0 0 0\n",
      " 0 0 0 0 0 0 1 0 1 0 1 1 1 2 0 0 0 0 1 0 2 0 0 0 0 0 0 0 2 0 1 0 1 1 0 0 2\n",
      " 1 1 1 1 1 1 1 1 1 1 1 1 1 0 1 1 1 0 1 1 1 0 1 1 1 1 1 1 1 1 1 1 1 1 1 1 1\n",
      " 0 1 1 1 1 1 0 1 1 1 2 2 1 2 2 1 1 2 2 1 2 1 2 2 1 2 2 2 2 2 2 2 2 2 2 2 2\n",
      " 2 2 2 2 1 2 2 1 2 1 2 1 2 2 2 2 2 2 2 1 2 2 2 1 2 2 2]\n"
     ]
    }
   ],
   "source": [
    "# Predict the lables\n",
    "predicted_labels = r.predict(X_test,labels_test)\n",
    "print(predicted_labels)"
   ]
  },
  {
   "cell_type": "code",
   "execution_count": 7,
   "metadata": {},
   "outputs": [
    {
     "data": {
      "text/plain": [
       "0.7257142857142858"
      ]
     },
     "execution_count": 7,
     "metadata": {},
     "output_type": "execute_result"
    }
   ],
   "source": [
    "# Test accuracy\n",
    "r.test_accuracy"
   ]
  },
  {
   "cell_type": "markdown",
   "metadata": {},
   "source": [
    "# Parameter Selection"
   ]
  },
  {
   "cell_type": "code",
   "execution_count": 8,
   "metadata": {},
   "outputs": [
    {
     "name": "stdout",
     "output_type": "stream",
     "text": [
      "Parameter selection is completed\n",
      "method              d\n",
      "normalize       False\n",
      "depth              10\n",
      "var                 0\n",
      "oob_acc      0.883333\n",
      "Name: 0, dtype: object\n"
     ]
    }
   ],
   "source": [
    "# Apply parameter selection. Selected parameters will be hold inside RandTS instance which can be used in future steps.\n",
    "r.selectParameters(X_train,labels_train,param_kwargs = {'depth_cv':[3,5,10], 'ntree_cv':[100], 'rep_num':5, 'method_cv':['l','d','b']})"
   ]
  },
  {
   "cell_type": "markdown",
   "metadata": {},
   "source": [
    "# Train and Test RandTS on the Given Dataset"
   ]
  },
  {
   "cell_type": "code",
   "execution_count": 6,
   "metadata": {},
   "outputs": [
    {
     "name": "stdout",
     "output_type": "stream",
     "text": [
      "Replication  0\n",
      "Test Accuracy : 0.8114285714285714\n",
      "Replication  1\n",
      "Test Accuracy : 0.8228571428571428\n",
      "Replication  2\n",
      "Test Accuracy : 0.8285714285714286\n",
      "Replication  3\n",
      "Test Accuracy : 0.8171428571428572\n",
      "Replication  4\n",
      "Test Accuracy : 0.8057142857142857\n",
      "Replication  5\n",
      "Test Accuracy : 0.8342857142857143\n",
      "Replication  6\n",
      "Test Accuracy : 0.8114285714285714\n",
      "Replication  7\n",
      "Test Accuracy : 0.8228571428571428\n",
      "Replication  8\n",
      "Test Accuracy : 0.8228571428571428\n",
      "Replication  9\n",
      "Test Accuracy : 0.8228571428571428\n"
     ]
    }
   ],
   "source": [
    "for i in range(10):\n",
    "    print('Replication ',i)\n",
    "    r = RandTS()\n",
    "    r.fit(X_train,labels_train)\n",
    "    predicted_labels = r.predict(X_test,labels_test)\n",
    "    print('Test Accuracy: ',r.test_accuracy)"
   ]
  }
 ],
 "metadata": {
  "kernelspec": {
   "display_name": "Python 3",
   "language": "python",
   "name": "python3"
  },
  "language_info": {
   "codemirror_mode": {
    "name": "ipython",
    "version": 3
   },
   "file_extension": ".py",
   "mimetype": "text/x-python",
   "name": "python",
   "nbconvert_exporter": "python",
   "pygments_lexer": "ipython3",
   "version": "3.7.10"
  }
 },
 "nbformat": 4,
 "nbformat_minor": 4
}
