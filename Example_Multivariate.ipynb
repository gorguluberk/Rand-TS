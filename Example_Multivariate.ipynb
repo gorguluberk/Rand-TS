{
 "cells": [
  {
   "cell_type": "markdown",
   "metadata": {},
   "source": [
    "# Multivariate Example"
   ]
  },
  {
   "cell_type": "code",
   "execution_count": 1,
   "metadata": {},
   "outputs": [],
   "source": [
    "%reload_ext autoreload\n",
    "import numpy as np\n",
    "import pandas as pd\n",
    "from os import listdir\n",
    "import os\n",
    "import time\n",
    "from RandTSMultivariate import *"
   ]
  },
  {
   "cell_type": "code",
   "execution_count": 2,
   "metadata": {},
   "outputs": [],
   "source": [
    "# Set your dataset directory and get the datasets inside.\n",
    "directory = r'Dataset_Multivariate\\\\'\n",
    "datasets = listdir(directory)\n",
    "data_name = datasets[0]"
   ]
  },
  {
   "cell_type": "code",
   "execution_count": 3,
   "metadata": {
    "tags": []
   },
   "outputs": [],
   "source": [
    "# Create a RandTS instance.\n",
    "r = RandTSMultivariate()\n",
    "\n",
    "# Add dataset directory to your RandTS instance.\n",
    "r.addDatasetDirectory(directory)"
   ]
  },
  {
   "cell_type": "code",
   "execution_count": 4,
   "metadata": {},
   "outputs": [],
   "source": [
    "# Load data\n",
    "X_train, labels_train, X_test, labels_test, ndims = load_data_multivariate(directory,data_name)"
   ]
  },
  {
   "cell_type": "code",
   "execution_count": 5,
   "metadata": {},
   "outputs": [],
   "source": [
    "# Train the model\n",
    "r.fit(X_train,labels_train,ndims)"
   ]
  },
  {
   "cell_type": "code",
   "execution_count": 6,
   "metadata": {},
   "outputs": [
    {
     "name": "stdout",
     "output_type": "stream",
     "text": [
      "['Standing' 'Standing' 'Standing' 'Standing' 'Standing' 'Standing'\n",
      " 'Standing' 'Standing' 'Standing' 'Standing' 'Running' 'Running' 'Running'\n",
      " 'Running' 'Running' 'Running' 'Running' 'Running' 'Running' 'Running'\n",
      " 'Walking' 'Walking' 'Walking' 'Walking' 'Walking' 'Walking' 'Walking'\n",
      " 'Walking' 'Walking' 'Walking' 'Badminton' 'Badminton' 'Badminton'\n",
      " 'Badminton' 'Badminton' 'Badminton' 'Badminton' 'Badminton' 'Badminton'\n",
      " 'Badminton']\n"
     ]
    }
   ],
   "source": [
    "# Predict the lables\n",
    "predicted_labels = r.predict(X_test,labels_test)\n",
    "print(predicted_labels)"
   ]
  },
  {
   "cell_type": "code",
   "execution_count": 7,
   "metadata": {},
   "outputs": [
    {
     "data": {
      "text/plain": [
       "1.0"
      ]
     },
     "execution_count": 7,
     "metadata": {},
     "output_type": "execute_result"
    }
   ],
   "source": [
    "# Test accuracy\n",
    "r.test_accuracy"
   ]
  },
  {
   "cell_type": "markdown",
   "metadata": {},
   "source": [
    "# Parameter Selection"
   ]
  },
  {
   "cell_type": "code",
   "execution_count": 8,
   "metadata": {},
   "outputs": [
    {
     "name": "stdout",
     "output_type": "stream",
     "text": [
      "Parameter selection is completed\n",
      "method           l\n",
      "normalize    False\n",
      "depth            3\n",
      "var              0\n",
      "oob_acc      0.975\n",
      "Name: 3, dtype: object\n"
     ]
    }
   ],
   "source": [
    "# Apply parameter selection. Selected parameters will be hold inside RandTS instance which can be used in future steps.\n",
    "r.selectParameters(X_train,labels_train,ndims,param_kwargs = {'depth_cv':[3,5,10], 'ntree_cv':[100], 'rep_num':1, 'method_cv':['l','d']})"
   ]
  },
  {
   "cell_type": "markdown",
   "metadata": {},
   "source": [
    "# Train and Test RandTS on the Given Dataset"
   ]
  },
  {
   "cell_type": "code",
   "execution_count": 10,
   "metadata": {},
   "outputs": [
    {
     "name": "stdout",
     "output_type": "stream",
     "text": [
      "Replication  0\n",
      "Test Accuracy:  1.0\n",
      "Replication  1\n",
      "Test Accuracy:  1.0\n",
      "Replication  2\n",
      "Test Accuracy:  0.975\n",
      "Replication  3\n",
      "Test Accuracy:  1.0\n",
      "Replication  4\n",
      "Test Accuracy:  1.0\n",
      "Replication  5\n",
      "Test Accuracy:  1.0\n",
      "Replication  6\n",
      "Test Accuracy:  1.0\n",
      "Replication  7\n",
      "Test Accuracy:  1.0\n",
      "Replication  8\n",
      "Test Accuracy:  1.0\n",
      "Replication  9\n",
      "Test Accuracy:  1.0\n"
     ]
    }
   ],
   "source": [
    "for i in range(10):\n",
    "    print('Replication ',i)\n",
    "    r = RandTSMultivariate()\n",
    "    r.fit(X_train,labels_train,ndims)\n",
    "    predicted_labels = r.predict(X_test,labels_test)\n",
    "    print('Test Accuracy: ',r.test_accuracy)"
   ]
  }
 ],
 "metadata": {
  "kernelspec": {
   "display_name": "Python 3",
   "language": "python",
   "name": "python3"
  },
  "language_info": {
   "codemirror_mode": {
    "name": "ipython",
    "version": 3
   },
   "file_extension": ".py",
   "mimetype": "text/x-python",
   "name": "python",
   "nbconvert_exporter": "python",
   "pygments_lexer": "ipython3",
   "version": "3.7.10"
  }
 },
 "nbformat": 4,
 "nbformat_minor": 4
}
