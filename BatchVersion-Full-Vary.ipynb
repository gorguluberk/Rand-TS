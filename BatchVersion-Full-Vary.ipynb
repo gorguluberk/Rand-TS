{
 "cells": [
  {
   "cell_type": "code",
   "execution_count": 1,
   "metadata": {},
   "outputs": [],
   "source": [
    "\n",
    "#Imports\n",
    "\n",
    "import numpy as np\n",
    "import pandas as pd\n",
    "from sklearn.ensemble import ExtraTreesRegressor\n",
    "from sklearn.tree import DecisionTreeRegressor\n",
    "from sklearn.ensemble import RandomForestRegressor\n",
    "from sklearn.ensemble import BaggingRegressor\n",
    "from sklearn.ensemble import RandomForestClassifier\n",
    "from sklearn.ensemble import RandomTreesEmbedding\n",
    "from sklearn.ensemble import ExtraTreesClassifier\n",
    "from sklearn.ensemble import GradientBoostingClassifier\n",
    "from sklearn.decomposition import TruncatedSVD\n",
    "from os import listdir\n",
    "import os\n",
    "import time\n",
    "import gc\n",
    "from scipy import sparse\n",
    "from sklearn.preprocessing import normalize\n",
    "from sklearn.metrics import roc_auc_score\n",
    "from sklearn.metrics import accuracy_score\n",
    "from sklearn.metrics.pairwise import pairwise_distances\n",
    "\n",
    "from sklearn.neighbors import KNeighborsClassifier\n",
    "from sklearn.neighbors import DistanceMetric\n",
    "\n",
    "from sklearn.ensemble import ExtraTreesClassifier,RandomForestClassifier\n",
    "from sklearn.datasets import load_iris\n",
    "from sklearn.feature_selection import SelectFromModel\n",
    "from sklearn.feature_selection import VarianceThreshold\n",
    "\n",
    "from src3 import *"
   ]
  },
  {
   "cell_type": "code",
   "execution_count": 2,
   "metadata": {},
   "outputs": [
    {
     "name": "stdout",
     "output_type": "stream",
     "text": [
      "0.20.3\n"
     ]
    }
   ],
   "source": [
    "import sklearn\n",
    "print(sklearn.__version__)\n"
   ]
  },
  {
   "cell_type": "code",
   "execution_count": 3,
   "metadata": {},
   "outputs": [],
   "source": [
    "directory = r\"C:\\Users\\BERK\\Dropbox\\Time Series Classification\\Vary\"\n",
    "datasets = listdir(directory)"
   ]
  },
  {
   "cell_type": "code",
   "execution_count": 4,
   "metadata": {},
   "outputs": [
    {
     "data": {
      "text/plain": [
       "'AllGestureWiimoteX'"
      ]
     },
     "execution_count": 4,
     "metadata": {},
     "output_type": "execute_result"
    }
   ],
   "source": [
    "datasets[0]"
   ]
  },
  {
   "cell_type": "code",
   "execution_count": 5,
   "metadata": {},
   "outputs": [
    {
     "data": {
      "text/plain": [
       "0"
      ]
     },
     "execution_count": 5,
     "metadata": {},
     "output_type": "execute_result"
    }
   ],
   "source": [
    "datasets.index('Adiac')"
   ]
  },
  {
   "cell_type": "code",
   "execution_count": 15,
   "metadata": {},
   "outputs": [
    {
     "data": {
      "text/plain": [
       "['ChlorineConcentration',\n",
       " 'HandOutlines',\n",
       " 'ECG5000',\n",
       " 'StarLightCurves',\n",
       " 'UWaveGestureLibraryZ']"
      ]
     },
     "execution_count": 15,
     "metadata": {},
     "output_type": "execute_result"
    }
   ],
   "source": [
    "np.array(temp_list_names)[[0,1,2,3,6]].tolist()"
   ]
  },
  {
   "cell_type": "code",
   "execution_count": 17,
   "metadata": {},
   "outputs": [
    {
     "data": {
      "text/plain": [
       "'PLAID'"
      ]
     },
     "execution_count": 17,
     "metadata": {},
     "output_type": "execute_result"
    }
   ],
   "source": [
    "datasets[13]"
   ]
  },
  {
   "cell_type": "code",
   "execution_count": 4,
   "metadata": {
    "scrolled": true
   },
   "outputs": [
    {
     "name": "stdout",
     "output_type": "stream",
     "text": [
      "AllGestureWiimoteX\n",
      "0\n",
      "Parameter selection is completed\n",
      "0.6\n",
      "0.6157142857142858\n",
      "0.6028571428571429\n",
      "0.5985714285714285\n"
     ]
    },
    {
     "ename": "KeyboardInterrupt",
     "evalue": "",
     "output_type": "error",
     "traceback": [
      "\u001b[1;31m---------------------------------------------------------------------------\u001b[0m",
      "\u001b[1;31mKeyboardInterrupt\u001b[0m                         Traceback (most recent call last)",
      "\u001b[1;32m<ipython-input-4-51df8d477874>\u001b[0m in \u001b[0;36m<module>\u001b[1;34m\u001b[0m\n\u001b[0;32m    120\u001b[0m                         \u001b[0mrepresent_test\u001b[0m \u001b[1;33m=\u001b[0m \u001b[0mrepresent_test\u001b[0m\u001b[1;33m.\u001b[0m\u001b[0mdrop\u001b[0m\u001b[1;33m(\u001b[0m\u001b[0mcolumns\u001b[0m \u001b[1;33m=\u001b[0m \u001b[1;33m[\u001b[0m\u001b[1;34m'Id'\u001b[0m\u001b[1;33m]\u001b[0m\u001b[1;33m)\u001b[0m\u001b[1;33m\u001b[0m\u001b[1;33m\u001b[0m\u001b[0m\n\u001b[0;32m    121\u001b[0m \u001b[1;33m\u001b[0m\u001b[0m\n\u001b[1;32m--> 122\u001b[1;33m                         \u001b[0mtrainbow\u001b[0m\u001b[1;33m,\u001b[0m\u001b[0mtestbow\u001b[0m \u001b[1;33m=\u001b[0m \u001b[0mlearn_representation_sparse_2\u001b[0m\u001b[1;33m(\u001b[0m\u001b[0mrepresent_train\u001b[0m\u001b[1;33m,\u001b[0m \u001b[0mrepresent_test\u001b[0m\u001b[1;33m,\u001b[0m\u001b[0mlabels_train\u001b[0m\u001b[1;33m,\u001b[0m\u001b[0mlabels_test\u001b[0m\u001b[1;33m,\u001b[0m \u001b[0mtrain_id\u001b[0m\u001b[1;33m,\u001b[0m \u001b[0mtest_id\u001b[0m\u001b[1;33m,\u001b[0m \u001b[0mdepth\u001b[0m\u001b[1;33m,\u001b[0m \u001b[0mint\u001b[0m\u001b[1;33m(\u001b[0m\u001b[1;36m500\u001b[0m\u001b[1;33m/\u001b[0m\u001b[0mlen\u001b[0m\u001b[1;33m(\u001b[0m\u001b[0mbatch_list2\u001b[0m\u001b[1;33m)\u001b[0m\u001b[1;33m)\u001b[0m\u001b[1;33m,\u001b[0m\u001b[0mrep\u001b[0m\u001b[1;33m*\u001b[0m\u001b[1;36m1000\u001b[0m\u001b[1;33m+\u001b[0m\u001b[0mcounter\u001b[0m\u001b[1;33m,\u001b[0m \u001b[0mis_terminal\u001b[0m\u001b[1;33m,\u001b[0m\u001b[0mnormal\u001b[0m\u001b[1;33m=\u001b[0m\u001b[0mn\u001b[0m\u001b[1;33m)\u001b[0m\u001b[1;33m\u001b[0m\u001b[1;33m\u001b[0m\u001b[0m\n\u001b[0m\u001b[0;32m    123\u001b[0m                         \u001b[0mcounter\u001b[0m \u001b[1;33m=\u001b[0m \u001b[0mcounter\u001b[0m \u001b[1;33m+\u001b[0m\u001b[1;36m1\u001b[0m\u001b[1;33m\u001b[0m\u001b[1;33m\u001b[0m\u001b[0m\n\u001b[0;32m    124\u001b[0m                         \u001b[1;31m#print(rep+counter)\u001b[0m\u001b[1;33m\u001b[0m\u001b[1;33m\u001b[0m\u001b[1;33m\u001b[0m\u001b[0m\n",
      "\u001b[1;32m~\\Dropbox\\Time Series Classification\\src3.py\u001b[0m in \u001b[0;36mlearn_representation_sparse_2\u001b[1;34m(represent_train, represent_test, labels_train, labels_test, train_id, test_id, depth, ntree, random_seed, is_terminal, normal)\u001b[0m\n\u001b[0;32m    221\u001b[0m         \u001b[0mtrainlabels\u001b[0m\u001b[1;33m=\u001b[0m\u001b[0mlabels_train\u001b[0m\u001b[1;33m\u001b[0m\u001b[1;33m\u001b[0m\u001b[0m\n\u001b[0;32m    222\u001b[0m \u001b[1;33m\u001b[0m\u001b[0m\n\u001b[1;32m--> 223\u001b[1;33m         \u001b[0mrandTrees\u001b[0m\u001b[1;33m=\u001b[0m\u001b[0mrt\u001b[0m\u001b[1;33m.\u001b[0m\u001b[0mfit\u001b[0m\u001b[1;33m(\u001b[0m\u001b[0mtraincv\u001b[0m\u001b[1;33m.\u001b[0m\u001b[0mvalues\u001b[0m\u001b[1;33m)\u001b[0m\u001b[1;33m\u001b[0m\u001b[1;33m\u001b[0m\u001b[0m\n\u001b[0m\u001b[0;32m    224\u001b[0m         \u001b[0mtrainRep\u001b[0m\u001b[1;33m=\u001b[0m\u001b[0mrandTrees\u001b[0m\u001b[1;33m.\u001b[0m\u001b[0mapply\u001b[0m\u001b[1;33m(\u001b[0m\u001b[0mtraincv\u001b[0m\u001b[1;33m.\u001b[0m\u001b[0mvalues\u001b[0m\u001b[1;33m)\u001b[0m\u001b[1;33m\u001b[0m\u001b[1;33m\u001b[0m\u001b[0m\n\u001b[0;32m    225\u001b[0m \u001b[1;33m\u001b[0m\u001b[0m\n",
      "\u001b[1;32m~\\Anaconda3\\lib\\site-packages\\sklearn\\ensemble\\forest.py\u001b[0m in \u001b[0;36mfit\u001b[1;34m(self, X, y, sample_weight)\u001b[0m\n\u001b[0;32m   1973\u001b[0m \u001b[1;33m\u001b[0m\u001b[0m\n\u001b[0;32m   1974\u001b[0m         \"\"\"\n\u001b[1;32m-> 1975\u001b[1;33m         \u001b[0mself\u001b[0m\u001b[1;33m.\u001b[0m\u001b[0mfit_transform\u001b[0m\u001b[1;33m(\u001b[0m\u001b[0mX\u001b[0m\u001b[1;33m,\u001b[0m \u001b[0my\u001b[0m\u001b[1;33m,\u001b[0m \u001b[0msample_weight\u001b[0m\u001b[1;33m=\u001b[0m\u001b[0msample_weight\u001b[0m\u001b[1;33m)\u001b[0m\u001b[1;33m\u001b[0m\u001b[1;33m\u001b[0m\u001b[0m\n\u001b[0m\u001b[0;32m   1976\u001b[0m         \u001b[1;32mreturn\u001b[0m \u001b[0mself\u001b[0m\u001b[1;33m\u001b[0m\u001b[1;33m\u001b[0m\u001b[0m\n\u001b[0;32m   1977\u001b[0m \u001b[1;33m\u001b[0m\u001b[0m\n",
      "\u001b[1;32m~\\Anaconda3\\lib\\site-packages\\sklearn\\ensemble\\forest.py\u001b[0m in \u001b[0;36mfit_transform\u001b[1;34m(self, X, y, sample_weight)\u001b[0m\n\u001b[0;32m   2010\u001b[0m         self.one_hot_encoder_ = OneHotEncoder(sparse=self.sparse_output,\n\u001b[0;32m   2011\u001b[0m                                               categories='auto')\n\u001b[1;32m-> 2012\u001b[1;33m         \u001b[1;32mreturn\u001b[0m \u001b[0mself\u001b[0m\u001b[1;33m.\u001b[0m\u001b[0mone_hot_encoder_\u001b[0m\u001b[1;33m.\u001b[0m\u001b[0mfit_transform\u001b[0m\u001b[1;33m(\u001b[0m\u001b[0mself\u001b[0m\u001b[1;33m.\u001b[0m\u001b[0mapply\u001b[0m\u001b[1;33m(\u001b[0m\u001b[0mX\u001b[0m\u001b[1;33m)\u001b[0m\u001b[1;33m)\u001b[0m\u001b[1;33m\u001b[0m\u001b[1;33m\u001b[0m\u001b[0m\n\u001b[0m\u001b[0;32m   2013\u001b[0m \u001b[1;33m\u001b[0m\u001b[0m\n\u001b[0;32m   2014\u001b[0m     \u001b[1;32mdef\u001b[0m \u001b[0mtransform\u001b[0m\u001b[1;33m(\u001b[0m\u001b[0mself\u001b[0m\u001b[1;33m,\u001b[0m \u001b[0mX\u001b[0m\u001b[1;33m)\u001b[0m\u001b[1;33m:\u001b[0m\u001b[1;33m\u001b[0m\u001b[1;33m\u001b[0m\u001b[0m\n",
      "\u001b[1;32m~\\Anaconda3\\lib\\site-packages\\sklearn\\ensemble\\forest.py\u001b[0m in \u001b[0;36mapply\u001b[1;34m(self, X)\u001b[0m\n\u001b[0;32m    176\u001b[0m                            \u001b[1;33m**\u001b[0m\u001b[0m_joblib_parallel_args\u001b[0m\u001b[1;33m(\u001b[0m\u001b[0mprefer\u001b[0m\u001b[1;33m=\u001b[0m\u001b[1;34m\"threads\"\u001b[0m\u001b[1;33m)\u001b[0m\u001b[1;33m)\u001b[0m\u001b[1;33m(\u001b[0m\u001b[1;33m\u001b[0m\u001b[1;33m\u001b[0m\u001b[0m\n\u001b[0;32m    177\u001b[0m             \u001b[0mdelayed\u001b[0m\u001b[1;33m(\u001b[0m\u001b[0mparallel_helper\u001b[0m\u001b[1;33m)\u001b[0m\u001b[1;33m(\u001b[0m\u001b[0mtree\u001b[0m\u001b[1;33m,\u001b[0m \u001b[1;34m'apply'\u001b[0m\u001b[1;33m,\u001b[0m \u001b[0mX\u001b[0m\u001b[1;33m,\u001b[0m \u001b[0mcheck_input\u001b[0m\u001b[1;33m=\u001b[0m\u001b[1;32mFalse\u001b[0m\u001b[1;33m)\u001b[0m\u001b[1;33m\u001b[0m\u001b[1;33m\u001b[0m\u001b[0m\n\u001b[1;32m--> 178\u001b[1;33m             for tree in self.estimators_)\n\u001b[0m\u001b[0;32m    179\u001b[0m \u001b[1;33m\u001b[0m\u001b[0m\n\u001b[0;32m    180\u001b[0m         \u001b[1;32mreturn\u001b[0m \u001b[0mnp\u001b[0m\u001b[1;33m.\u001b[0m\u001b[0marray\u001b[0m\u001b[1;33m(\u001b[0m\u001b[0mresults\u001b[0m\u001b[1;33m)\u001b[0m\u001b[1;33m.\u001b[0m\u001b[0mT\u001b[0m\u001b[1;33m\u001b[0m\u001b[1;33m\u001b[0m\u001b[0m\n",
      "\u001b[1;32m~\\Anaconda3\\lib\\site-packages\\sklearn\\externals\\joblib\\parallel.py\u001b[0m in \u001b[0;36m__call__\u001b[1;34m(self, iterable)\u001b[0m\n\u001b[0;32m    938\u001b[0m                 \u001b[0mself\u001b[0m\u001b[1;33m.\u001b[0m\u001b[0m_backend\u001b[0m\u001b[1;33m.\u001b[0m\u001b[0mstop_call\u001b[0m\u001b[1;33m(\u001b[0m\u001b[1;33m)\u001b[0m\u001b[1;33m\u001b[0m\u001b[1;33m\u001b[0m\u001b[0m\n\u001b[0;32m    939\u001b[0m             \u001b[1;32mif\u001b[0m \u001b[1;32mnot\u001b[0m \u001b[0mself\u001b[0m\u001b[1;33m.\u001b[0m\u001b[0m_managed_backend\u001b[0m\u001b[1;33m:\u001b[0m\u001b[1;33m\u001b[0m\u001b[1;33m\u001b[0m\u001b[0m\n\u001b[1;32m--> 940\u001b[1;33m                 \u001b[0mself\u001b[0m\u001b[1;33m.\u001b[0m\u001b[0m_terminate_backend\u001b[0m\u001b[1;33m(\u001b[0m\u001b[1;33m)\u001b[0m\u001b[1;33m\u001b[0m\u001b[1;33m\u001b[0m\u001b[0m\n\u001b[0m\u001b[0;32m    941\u001b[0m             \u001b[0mself\u001b[0m\u001b[1;33m.\u001b[0m\u001b[0m_jobs\u001b[0m \u001b[1;33m=\u001b[0m \u001b[0mlist\u001b[0m\u001b[1;33m(\u001b[0m\u001b[1;33m)\u001b[0m\u001b[1;33m\u001b[0m\u001b[1;33m\u001b[0m\u001b[0m\n\u001b[0;32m    942\u001b[0m             \u001b[0mself\u001b[0m\u001b[1;33m.\u001b[0m\u001b[0m_pickle_cache\u001b[0m \u001b[1;33m=\u001b[0m \u001b[1;32mNone\u001b[0m\u001b[1;33m\u001b[0m\u001b[1;33m\u001b[0m\u001b[0m\n",
      "\u001b[1;32m~\\Anaconda3\\lib\\site-packages\\sklearn\\externals\\joblib\\parallel.py\u001b[0m in \u001b[0;36m_terminate_backend\u001b[1;34m(self)\u001b[0m\n\u001b[0;32m    694\u001b[0m     \u001b[1;32mdef\u001b[0m \u001b[0m_terminate_backend\u001b[0m\u001b[1;33m(\u001b[0m\u001b[0mself\u001b[0m\u001b[1;33m)\u001b[0m\u001b[1;33m:\u001b[0m\u001b[1;33m\u001b[0m\u001b[1;33m\u001b[0m\u001b[0m\n\u001b[0;32m    695\u001b[0m         \u001b[1;32mif\u001b[0m \u001b[0mself\u001b[0m\u001b[1;33m.\u001b[0m\u001b[0m_backend\u001b[0m \u001b[1;32mis\u001b[0m \u001b[1;32mnot\u001b[0m \u001b[1;32mNone\u001b[0m\u001b[1;33m:\u001b[0m\u001b[1;33m\u001b[0m\u001b[1;33m\u001b[0m\u001b[0m\n\u001b[1;32m--> 696\u001b[1;33m             \u001b[0mself\u001b[0m\u001b[1;33m.\u001b[0m\u001b[0m_backend\u001b[0m\u001b[1;33m.\u001b[0m\u001b[0mterminate\u001b[0m\u001b[1;33m(\u001b[0m\u001b[1;33m)\u001b[0m\u001b[1;33m\u001b[0m\u001b[1;33m\u001b[0m\u001b[0m\n\u001b[0m\u001b[0;32m    697\u001b[0m \u001b[1;33m\u001b[0m\u001b[0m\n\u001b[0;32m    698\u001b[0m     \u001b[1;32mdef\u001b[0m \u001b[0m_dispatch\u001b[0m\u001b[1;33m(\u001b[0m\u001b[0mself\u001b[0m\u001b[1;33m,\u001b[0m \u001b[0mbatch\u001b[0m\u001b[1;33m)\u001b[0m\u001b[1;33m:\u001b[0m\u001b[1;33m\u001b[0m\u001b[1;33m\u001b[0m\u001b[0m\n",
      "\u001b[1;32m~\\Anaconda3\\lib\\site-packages\\sklearn\\externals\\joblib\\_parallel_backends.py\u001b[0m in \u001b[0;36mterminate\u001b[1;34m(self)\u001b[0m\n\u001b[0;32m    215\u001b[0m         \u001b[1;32mif\u001b[0m \u001b[0mself\u001b[0m\u001b[1;33m.\u001b[0m\u001b[0m_pool\u001b[0m \u001b[1;32mis\u001b[0m \u001b[1;32mnot\u001b[0m \u001b[1;32mNone\u001b[0m\u001b[1;33m:\u001b[0m\u001b[1;33m\u001b[0m\u001b[1;33m\u001b[0m\u001b[0m\n\u001b[0;32m    216\u001b[0m             \u001b[0mself\u001b[0m\u001b[1;33m.\u001b[0m\u001b[0m_pool\u001b[0m\u001b[1;33m.\u001b[0m\u001b[0mclose\u001b[0m\u001b[1;33m(\u001b[0m\u001b[1;33m)\u001b[0m\u001b[1;33m\u001b[0m\u001b[1;33m\u001b[0m\u001b[0m\n\u001b[1;32m--> 217\u001b[1;33m             \u001b[0mself\u001b[0m\u001b[1;33m.\u001b[0m\u001b[0m_pool\u001b[0m\u001b[1;33m.\u001b[0m\u001b[0mterminate\u001b[0m\u001b[1;33m(\u001b[0m\u001b[1;33m)\u001b[0m  \u001b[1;31m# terminate does a join()\u001b[0m\u001b[1;33m\u001b[0m\u001b[1;33m\u001b[0m\u001b[0m\n\u001b[0m\u001b[0;32m    218\u001b[0m             \u001b[0mself\u001b[0m\u001b[1;33m.\u001b[0m\u001b[0m_pool\u001b[0m \u001b[1;33m=\u001b[0m \u001b[1;32mNone\u001b[0m\u001b[1;33m\u001b[0m\u001b[1;33m\u001b[0m\u001b[0m\n\u001b[0;32m    219\u001b[0m \u001b[1;33m\u001b[0m\u001b[0m\n",
      "\u001b[1;32m~\\Anaconda3\\lib\\multiprocessing\\pool.py\u001b[0m in \u001b[0;36mterminate\u001b[1;34m(self)\u001b[0m\n\u001b[0;32m    546\u001b[0m         \u001b[0mself\u001b[0m\u001b[1;33m.\u001b[0m\u001b[0m_state\u001b[0m \u001b[1;33m=\u001b[0m \u001b[0mTERMINATE\u001b[0m\u001b[1;33m\u001b[0m\u001b[1;33m\u001b[0m\u001b[0m\n\u001b[0;32m    547\u001b[0m         \u001b[0mself\u001b[0m\u001b[1;33m.\u001b[0m\u001b[0m_worker_handler\u001b[0m\u001b[1;33m.\u001b[0m\u001b[0m_state\u001b[0m \u001b[1;33m=\u001b[0m \u001b[0mTERMINATE\u001b[0m\u001b[1;33m\u001b[0m\u001b[1;33m\u001b[0m\u001b[0m\n\u001b[1;32m--> 548\u001b[1;33m         \u001b[0mself\u001b[0m\u001b[1;33m.\u001b[0m\u001b[0m_terminate\u001b[0m\u001b[1;33m(\u001b[0m\u001b[1;33m)\u001b[0m\u001b[1;33m\u001b[0m\u001b[1;33m\u001b[0m\u001b[0m\n\u001b[0m\u001b[0;32m    549\u001b[0m \u001b[1;33m\u001b[0m\u001b[0m\n\u001b[0;32m    550\u001b[0m     \u001b[1;32mdef\u001b[0m \u001b[0mjoin\u001b[0m\u001b[1;33m(\u001b[0m\u001b[0mself\u001b[0m\u001b[1;33m)\u001b[0m\u001b[1;33m:\u001b[0m\u001b[1;33m\u001b[0m\u001b[1;33m\u001b[0m\u001b[0m\n",
      "\u001b[1;32m~\\Anaconda3\\lib\\multiprocessing\\util.py\u001b[0m in \u001b[0;36m__call__\u001b[1;34m(self, wr, _finalizer_registry, sub_debug, getpid)\u001b[0m\n\u001b[0;32m    187\u001b[0m                 sub_debug('finalizer calling %s with args %s and kwargs %s',\n\u001b[0;32m    188\u001b[0m                           self._callback, self._args, self._kwargs)\n\u001b[1;32m--> 189\u001b[1;33m                 \u001b[0mres\u001b[0m \u001b[1;33m=\u001b[0m \u001b[0mself\u001b[0m\u001b[1;33m.\u001b[0m\u001b[0m_callback\u001b[0m\u001b[1;33m(\u001b[0m\u001b[1;33m*\u001b[0m\u001b[0mself\u001b[0m\u001b[1;33m.\u001b[0m\u001b[0m_args\u001b[0m\u001b[1;33m,\u001b[0m \u001b[1;33m**\u001b[0m\u001b[0mself\u001b[0m\u001b[1;33m.\u001b[0m\u001b[0m_kwargs\u001b[0m\u001b[1;33m)\u001b[0m\u001b[1;33m\u001b[0m\u001b[1;33m\u001b[0m\u001b[0m\n\u001b[0m\u001b[0;32m    190\u001b[0m             \u001b[0mself\u001b[0m\u001b[1;33m.\u001b[0m\u001b[0m_weakref\u001b[0m \u001b[1;33m=\u001b[0m \u001b[0mself\u001b[0m\u001b[1;33m.\u001b[0m\u001b[0m_callback\u001b[0m \u001b[1;33m=\u001b[0m \u001b[0mself\u001b[0m\u001b[1;33m.\u001b[0m\u001b[0m_args\u001b[0m \u001b[1;33m=\u001b[0m\u001b[0;31m \u001b[0m\u001b[0;31m\\\u001b[0m\u001b[1;33m\u001b[0m\u001b[1;33m\u001b[0m\u001b[0m\n\u001b[0;32m    191\u001b[0m                             \u001b[0mself\u001b[0m\u001b[1;33m.\u001b[0m\u001b[0m_kwargs\u001b[0m \u001b[1;33m=\u001b[0m \u001b[0mself\u001b[0m\u001b[1;33m.\u001b[0m\u001b[0m_key\u001b[0m \u001b[1;33m=\u001b[0m \u001b[1;32mNone\u001b[0m\u001b[1;33m\u001b[0m\u001b[1;33m\u001b[0m\u001b[0m\n",
      "\u001b[1;32m~\\Anaconda3\\lib\\multiprocessing\\pool.py\u001b[0m in \u001b[0;36m_terminate_pool\u001b[1;34m(cls, taskqueue, inqueue, outqueue, pool, worker_handler, task_handler, result_handler, cache)\u001b[0m\n\u001b[0;32m    592\u001b[0m         \u001b[0mutil\u001b[0m\u001b[1;33m.\u001b[0m\u001b[0mdebug\u001b[0m\u001b[1;33m(\u001b[0m\u001b[1;34m'joining worker handler'\u001b[0m\u001b[1;33m)\u001b[0m\u001b[1;33m\u001b[0m\u001b[1;33m\u001b[0m\u001b[0m\n\u001b[0;32m    593\u001b[0m         \u001b[1;32mif\u001b[0m \u001b[0mthreading\u001b[0m\u001b[1;33m.\u001b[0m\u001b[0mcurrent_thread\u001b[0m\u001b[1;33m(\u001b[0m\u001b[1;33m)\u001b[0m \u001b[1;32mis\u001b[0m \u001b[1;32mnot\u001b[0m \u001b[0mworker_handler\u001b[0m\u001b[1;33m:\u001b[0m\u001b[1;33m\u001b[0m\u001b[1;33m\u001b[0m\u001b[0m\n\u001b[1;32m--> 594\u001b[1;33m             \u001b[0mworker_handler\u001b[0m\u001b[1;33m.\u001b[0m\u001b[0mjoin\u001b[0m\u001b[1;33m(\u001b[0m\u001b[1;33m)\u001b[0m\u001b[1;33m\u001b[0m\u001b[1;33m\u001b[0m\u001b[0m\n\u001b[0m\u001b[0;32m    595\u001b[0m \u001b[1;33m\u001b[0m\u001b[0m\n\u001b[0;32m    596\u001b[0m         \u001b[1;31m# Terminate workers which haven't already finished.\u001b[0m\u001b[1;33m\u001b[0m\u001b[1;33m\u001b[0m\u001b[1;33m\u001b[0m\u001b[0m\n",
      "\u001b[1;32m~\\Anaconda3\\lib\\threading.py\u001b[0m in \u001b[0;36mjoin\u001b[1;34m(self, timeout)\u001b[0m\n\u001b[0;32m   1030\u001b[0m \u001b[1;33m\u001b[0m\u001b[0m\n\u001b[0;32m   1031\u001b[0m         \u001b[1;32mif\u001b[0m \u001b[0mtimeout\u001b[0m \u001b[1;32mis\u001b[0m \u001b[1;32mNone\u001b[0m\u001b[1;33m:\u001b[0m\u001b[1;33m\u001b[0m\u001b[1;33m\u001b[0m\u001b[0m\n\u001b[1;32m-> 1032\u001b[1;33m             \u001b[0mself\u001b[0m\u001b[1;33m.\u001b[0m\u001b[0m_wait_for_tstate_lock\u001b[0m\u001b[1;33m(\u001b[0m\u001b[1;33m)\u001b[0m\u001b[1;33m\u001b[0m\u001b[1;33m\u001b[0m\u001b[0m\n\u001b[0m\u001b[0;32m   1033\u001b[0m         \u001b[1;32melse\u001b[0m\u001b[1;33m:\u001b[0m\u001b[1;33m\u001b[0m\u001b[1;33m\u001b[0m\u001b[0m\n\u001b[0;32m   1034\u001b[0m             \u001b[1;31m# the behavior of a negative timeout isn't documented, but\u001b[0m\u001b[1;33m\u001b[0m\u001b[1;33m\u001b[0m\u001b[1;33m\u001b[0m\u001b[0m\n",
      "\u001b[1;32m~\\Anaconda3\\lib\\threading.py\u001b[0m in \u001b[0;36m_wait_for_tstate_lock\u001b[1;34m(self, block, timeout)\u001b[0m\n\u001b[0;32m   1046\u001b[0m         \u001b[1;32mif\u001b[0m \u001b[0mlock\u001b[0m \u001b[1;32mis\u001b[0m \u001b[1;32mNone\u001b[0m\u001b[1;33m:\u001b[0m  \u001b[1;31m# already determined that the C code is done\u001b[0m\u001b[1;33m\u001b[0m\u001b[1;33m\u001b[0m\u001b[0m\n\u001b[0;32m   1047\u001b[0m             \u001b[1;32massert\u001b[0m \u001b[0mself\u001b[0m\u001b[1;33m.\u001b[0m\u001b[0m_is_stopped\u001b[0m\u001b[1;33m\u001b[0m\u001b[1;33m\u001b[0m\u001b[0m\n\u001b[1;32m-> 1048\u001b[1;33m         \u001b[1;32melif\u001b[0m \u001b[0mlock\u001b[0m\u001b[1;33m.\u001b[0m\u001b[0macquire\u001b[0m\u001b[1;33m(\u001b[0m\u001b[0mblock\u001b[0m\u001b[1;33m,\u001b[0m \u001b[0mtimeout\u001b[0m\u001b[1;33m)\u001b[0m\u001b[1;33m:\u001b[0m\u001b[1;33m\u001b[0m\u001b[1;33m\u001b[0m\u001b[0m\n\u001b[0m\u001b[0;32m   1049\u001b[0m             \u001b[0mlock\u001b[0m\u001b[1;33m.\u001b[0m\u001b[0mrelease\u001b[0m\u001b[1;33m(\u001b[0m\u001b[1;33m)\u001b[0m\u001b[1;33m\u001b[0m\u001b[1;33m\u001b[0m\u001b[0m\n\u001b[0;32m   1050\u001b[0m             \u001b[0mself\u001b[0m\u001b[1;33m.\u001b[0m\u001b[0m_stop\u001b[0m\u001b[1;33m(\u001b[0m\u001b[1;33m)\u001b[0m\u001b[1;33m\u001b[0m\u001b[1;33m\u001b[0m\u001b[0m\n",
      "\u001b[1;31mKeyboardInterrupt\u001b[0m: "
     ]
    }
   ],
   "source": [
    "test_results = pd.DataFrame(columns=['data_name','method','distance_measure','normalize','rep','depth','ntree','test_acc','param_time','train_time','test_time'])\n",
    "results = pd.DataFrame(columns=['data_name','method','distance_measure','normalize','rep','depth','ntree','oob_acc'])\n",
    "\n",
    "depth_cv = [10]\n",
    "ntree_cv = [100]\n",
    "term_cv = [True]\n",
    "rep_num = 1\n",
    "method_list = ['b']\n",
    "distance_list = ['manhattan']\n",
    "normal_list = [False]\n",
    "batch_list = list(range(10))\n",
    "batch_list2 = list(range(100))\n",
    "data_name=\"CBF\"\n",
    "directory = r\"C:\\Users\\BERK\\Dropbox\\Time Series Classification\\Vary\\\\\"\n",
    "datasets = listdir(directory)\n",
    "#datasets.sort()\n",
    "#dsum = data_summary(directory)\n",
    "\n",
    "#run_data = dsum.sort_values(by=['total'])['data'].values[60:70].tolist()\n",
    "\n",
    "for ddd in [datasets[0]]:\n",
    "\tdata_name = ddd\n",
    "\tprint(data_name)\n",
    "\ttrain,test,labels_train,labels_test,X_train,X_test = load_data_new(directory,data_name)\n",
    "\t#print(data_name+\" is loaded!\")\n",
    "\tresults = pd.DataFrame(columns=['data_name','method','distance_measure','normalize','rep','depth','ntree','var','oob_acc'])\n",
    "\tparam_time = time.time()\n",
    "\t\n",
    "\tfor method in method_list:\n",
    "\n",
    "\t\trepresent_train, represent_test, train_id, test_id = prepare_data(X_train,X_test,mode=method)\n",
    "\t\t#print(data_name+\" is prepared!\")\n",
    "\t\t#print(\"CV starts\")\n",
    "\t\tfor distance_measure in distance_list:\n",
    "\t\t\tfor rep in range(rep_num):\n",
    "\t\t\t\tprint(rep)\n",
    "\t\t\t\tfor depth in depth_cv:\n",
    "\t\t\t\t\tfor ntree in ntree_cv:\n",
    "\t\t\t\t\t\tfor is_terminal in term_cv: \n",
    "\t\t\t\t\t\t\tfor n in [0]:\n",
    "\t\t\t\t\t\t\t\tfirst = True\n",
    "\t\t\t\t\t\t\t\tcounter = 0\n",
    "\t\t\t\t\t\t\t\tfor b in batch_list:\n",
    "\t\t\t\t\t\t\t\t\trepresent_train, represent_test, train_id, test_id = prepare_data(X_train,X_test,mode=method)\n",
    "\t\t\t\t\t\t\t\t\trepresent_train['Id'] = train_id\n",
    "\t\t\t\t\t\t\t\t\trepresent_train = represent_train.dropna()\n",
    "\t\t\t\t\t\t\t\t\t#represent_train = represent_train.fillna(-1000)\n",
    "\t\t\t\t\t\t\t\t\ttrain_id = represent_train['Id'].values\n",
    "\t\t\t\t\t\t\t\t\trepresent_train = represent_train.drop(columns = ['Id'])\n",
    "\n",
    "\n",
    "\t\t\t\t\t\t\t\t\trepresent_test['Id'] = test_id\n",
    "\t\t\t\t\t\t\t\t\trepresent_test = represent_test.dropna()\n",
    "\t\t\t\t\t\t\t\t\t#represent_test = represent_test.fillna(-1000)\n",
    "\t\t\t\t\t\t\t\t\ttest_id = represent_test['Id'].values\n",
    "\t\t\t\t\t\t\t\t\trepresent_test = represent_test.drop(columns = ['Id'])\n",
    "                                    \n",
    "\t\t\t\t\t\t\t\t\ttrainbow,testbow = learn_representation_sparse_2(represent_train, None,labels_train,labels_test, train_id, test_id, depth, int(ntree/len(batch_list)),rep*1000+counter, is_terminal,normal=False)\n",
    "\t\t\t\t\t\t\t\t\tcounter = counter +1\n",
    "\t\t\t\t\t\t\t\t\t#sel = VarianceThreshold(threshold=0)\n",
    "\t\t\t\t\t\t\t\t\t#trainbow = sel.fit_transform(trainbow)\n",
    "\t\t\t\t\t\t\t\t\t#testbow = sel.fit_transform(testbow)                                    \n",
    "\t\t\t\t\t\t\t\t\t#valss = np.percentile(np.var(trainbow.todense(),axis=0),n,axis=1)\n",
    "                                    \n",
    "\t\t\t\t\t\t\t\t\t#sel = VarianceThreshold(threshold=valss)\n",
    "\t\t\t\t\t\t\t\t\t#trainbow = sel.fit_transform(trainbow)\n",
    "\t\t\t\t\t\t\t\t\t#testbow = sel.fit_transform(testbow)                       \n",
    "                                    \n",
    "\t\t\t\t\t\t\t\t\tif first is True:\n",
    "\t\t\t\t\t\t\t\t\t\tdistTrain=pairwise_distances(trainbow,metric=\"manhattan\",n_jobs=-1)       \n",
    "\t\t\t\t\t\t\t\t\t\tfirst = False\n",
    "\t\t\t\t\t\t\t\t\telse:\n",
    "\t\t\t\t\t\t\t\t\t\tdistTrain=distTrain+ pairwise_distances(trainbow,metric=\"manhattan\",n_jobs=-1)\n",
    "\t\t\t\t\t\t\t\t\tdel trainbow\n",
    "\t\t\t\t\t\t\t\t\tdel testbow\n",
    "\t\t\t\t\t\t\t\t\tgc.collect()\n",
    "\t\t\t\t\t\t\t\tnp.fill_diagonal(distTrain, 1000000000000)\n",
    "\t\t\t\t\t\t\t\tnncl=KNeighborsClassifier(n_neighbors=1,metric='precomputed')\n",
    "\t\t\t\t\t\t\t\tnnfit=nncl.fit(distTrain,labels_train)\n",
    "\t\t\t\t\t\t\t\tpredicted_train = nnfit.predict(distTrain)\n",
    "\t\t\t\t\t\t\t\tcv_accuracy = accuracy_score(labels_train,predicted_train)\n",
    "\t\t\t\t\t\t\t\t#test_accuracy = test_model(trainbow,testbow,labels_train,labels_test,metric = distance_measure) \n",
    "\t\t\t\t\t\t\t\ttemp_results = pd.DataFrame({'data_name':[data_name],'method':method,'distance_measure':[distance_measure],'normalize':[False],'rep':[rep+1],'depth':[depth],'ntree':[ntree],'var':[n],'type':[is_terminal],'oob_acc':[cv_accuracy]})\n",
    "\n",
    "                                #temp_results = pd.DataFrame({'data_name':[data_name],'method':method,'distance_measure':[distance_measure],'normalize':[n],'rep':[rep+1],'depth':[depth],'ntree':[ntree],'type':[is_terminal],'oob_acc':[cv_accuracy],'test_acc':[test_accuracy]})\n",
    "\t\t\t\t\t\t\t\t#print(temp_results)\n",
    "\t\t\t\t\t\t\t\tresults = results.append(temp_results,sort=False)\n",
    "\t\t\t\t\t\t\t\n",
    "                                \n",
    "\t\n",
    "\tsummary = results.groupby(['method','normalize','depth','var']).mean().reset_index()[results.groupby(['method','normalize','depth','var']).mean().reset_index()['oob_acc'] == results.groupby(['method','normalize','depth','var']).mean().reset_index()['oob_acc'].max()].reset_index(drop=True).sort_values(['method'],ascending=False).iloc[0]\n",
    "\t#summary = {'method':'d','normalize':False,'depth':10,'var':25}\n",
    "\tmethod = summary['method']\n",
    "\tn = summary['normalize']\n",
    "\tdepth = summary['depth']\n",
    "\tvar = summary['var']\n",
    "\tprint('Parameter selection is completed')\n",
    "\tparam_time = time.time()-param_time\n",
    "\n",
    "\tfor rep in range(20):\n",
    "\t\ttrain_time = time.time()\n",
    "\t\tfirst = True\n",
    "\t\tcounter = 0\n",
    "\t\tfor b in batch_list2:\n",
    "\t\t\t\n",
    "\t\t\trepresent_train, represent_test, train_id, test_id = prepare_data(X_train,X_test,mode=method)\n",
    "            \n",
    "\t\t\trepresent_train['Id'] = train_id\n",
    "\t\t\trepresent_train = represent_train.dropna()\n",
    "\t\t\t#represent_train = represent_train.fillna(-1000)\n",
    "\n",
    "\t\t\ttrain_id = represent_train['Id'].values\n",
    "\t\t\trepresent_train = represent_train.drop(columns = ['Id'])\n",
    "\n",
    "\n",
    "\t\t\trepresent_test['Id'] = test_id\n",
    "\t\t\trepresent_test = represent_test.dropna()\n",
    "\t\t\t#represent_test = represent_test.fillna(-1000)\n",
    "\t\t\ttest_id = represent_test['Id'].values\n",
    "\t\t\trepresent_test = represent_test.drop(columns = ['Id'])\n",
    "            \n",
    "\t\t\ttrainbow,testbow = learn_representation_sparse_2(represent_train, represent_test,labels_train,labels_test, train_id, test_id, depth, int(500/len(batch_list2)),rep*1000+counter, is_terminal,normal=n)\n",
    "\t\t\tcounter = counter +1\n",
    "\t\t\t#print(rep+counter)\n",
    "\t\t\tsel = VarianceThreshold(threshold=0)\n",
    "\t\t\ttrainbow = sel.fit_transform(trainbow)\n",
    "\t\t\ttestbow = sel.transform(testbow)                                    \n",
    "\t\t\t\t\t\t\t\t\t\n",
    "\t\t\t#valss = np.percentile(np.var(trainbow.todense(),axis=0),var,axis=1)\n",
    "                                    \n",
    "\t\t\t#sel = VarianceThreshold(threshold=valss)\n",
    "\t\t\ttrainbow_1 = trainbow\n",
    "\t\t\ttestbow_1 = testbow   \n",
    "            \n",
    "\n",
    "\t\t\tif first is True:\n",
    "\t\t\t\tdistTrainTest=pairwise_distances(trainbow_1,testbow_1,metric='manhattan',n_jobs=-1) \n",
    "\t\t\t\tfirst = False\n",
    "\t\t\telse:\n",
    "\t\t\t\tdistTrainTest = distTrainTest +pairwise_distances(trainbow_1,testbow_1,metric='manhattan',n_jobs = -1) \n",
    "\t\t\tdel trainbow\n",
    "\t\t\tdel testbow\n",
    "\t\t\tgc.collect()\n",
    "        \n",
    "\t\ttrain_time = time.time()-train_time\n",
    "\t\ttest_time = time.time()\n",
    "\t\tpredicted_test = np.array(labels_train)[np.argmin(distTrainTest, axis=0)]\n",
    "\t\ttest_accuracy=accuracy_score(labels_test,predicted_test)\n",
    "  \n",
    "\t\ttest_time = time.time()-test_time\n",
    "\t\ttemp_results = pd.DataFrame({'data_name':[data_name],'method':method,'distance_measure':[distance_measure],'normalize':[n],'rep':[rep+1],'depth':[depth],'ntree':[400],'type':[is_terminal],'test_acc':[test_accuracy],'param_time':[np.round(param_time,1)],'train_time':[np.round(train_time,1)],'test_time':[np.round(test_time,1)]})\n",
    "\t\ttest_results = test_results.append(temp_results,sort=False)\n",
    "\n",
    "\t\tprint(test_accuracy)    \n",
    "\ttest_results.to_csv('AllResultsNewApp_Vary_Full_3.csv')\n",
    "print(np.mean(test_results['test_acc']))"
   ]
  },
  {
   "cell_type": "code",
   "execution_count": 14,
   "metadata": {},
   "outputs": [
    {
     "data": {
      "text/plain": [
       "'PLAID'"
      ]
     },
     "execution_count": 14,
     "metadata": {},
     "output_type": "execute_result"
    }
   ],
   "source": [
    "datasets[13]"
   ]
  },
  {
   "cell_type": "code",
   "execution_count": 6,
   "metadata": {},
   "outputs": [
    {
     "data": {
      "text/html": [
       "<div>\n",
       "<style scoped>\n",
       "    .dataframe tbody tr th:only-of-type {\n",
       "        vertical-align: middle;\n",
       "    }\n",
       "\n",
       "    .dataframe tbody tr th {\n",
       "        vertical-align: top;\n",
       "    }\n",
       "\n",
       "    .dataframe thead th {\n",
       "        text-align: right;\n",
       "    }\n",
       "</style>\n",
       "<table border=\"1\" class=\"dataframe\">\n",
       "  <thead>\n",
       "    <tr style=\"text-align: right;\">\n",
       "      <th></th>\n",
       "      <th>test_acc</th>\n",
       "      <th>param_time</th>\n",
       "      <th>train_time</th>\n",
       "      <th>test_time</th>\n",
       "    </tr>\n",
       "    <tr>\n",
       "      <th>data_name</th>\n",
       "      <th></th>\n",
       "      <th></th>\n",
       "      <th></th>\n",
       "      <th></th>\n",
       "    </tr>\n",
       "  </thead>\n",
       "  <tbody>\n",
       "    <tr>\n",
       "      <th>Adiac</th>\n",
       "      <td>0.787468</td>\n",
       "      <td>2337.5</td>\n",
       "      <td>73.960</td>\n",
       "      <td>0.0</td>\n",
       "    </tr>\n",
       "    <tr>\n",
       "      <th>ArrowHead</th>\n",
       "      <td>0.818571</td>\n",
       "      <td>657.3</td>\n",
       "      <td>68.090</td>\n",
       "      <td>0.0</td>\n",
       "    </tr>\n",
       "    <tr>\n",
       "      <th>Beef</th>\n",
       "      <td>0.800000</td>\n",
       "      <td>664.6</td>\n",
       "      <td>67.090</td>\n",
       "      <td>0.0</td>\n",
       "    </tr>\n",
       "    <tr>\n",
       "      <th>BeetleFly</th>\n",
       "      <td>0.705000</td>\n",
       "      <td>657.3</td>\n",
       "      <td>66.320</td>\n",
       "      <td>0.0</td>\n",
       "    </tr>\n",
       "    <tr>\n",
       "      <th>BirdChicken</th>\n",
       "      <td>0.862500</td>\n",
       "      <td>656.5</td>\n",
       "      <td>66.205</td>\n",
       "      <td>0.0</td>\n",
       "    </tr>\n",
       "    <tr>\n",
       "      <th>...</th>\n",
       "      <td>...</td>\n",
       "      <td>...</td>\n",
       "      <td>...</td>\n",
       "      <td>...</td>\n",
       "    </tr>\n",
       "    <tr>\n",
       "      <th>ShapeletSim</th>\n",
       "      <td>0.912222</td>\n",
       "      <td>676.7</td>\n",
       "      <td>70.085</td>\n",
       "      <td>0.0</td>\n",
       "    </tr>\n",
       "    <tr>\n",
       "      <th>ShapesAll</th>\n",
       "      <td>0.857917</td>\n",
       "      <td>5075.2</td>\n",
       "      <td>112.870</td>\n",
       "      <td>0.0</td>\n",
       "    </tr>\n",
       "    <tr>\n",
       "      <th>SmallKitchenAppliances</th>\n",
       "      <td>0.686800</td>\n",
       "      <td>2597.5</td>\n",
       "      <td>103.220</td>\n",
       "      <td>0.0</td>\n",
       "    </tr>\n",
       "    <tr>\n",
       "      <th>SonyAIBORobotSurface1</th>\n",
       "      <td>0.764892</td>\n",
       "      <td>658.3</td>\n",
       "      <td>68.485</td>\n",
       "      <td>0.0</td>\n",
       "    </tr>\n",
       "    <tr>\n",
       "      <th>SonyAIBORobotSurface2</th>\n",
       "      <td>0.833788</td>\n",
       "      <td>662.1</td>\n",
       "      <td>68.605</td>\n",
       "      <td>0.0</td>\n",
       "    </tr>\n",
       "  </tbody>\n",
       "</table>\n",
       "<p>65 rows × 4 columns</p>\n",
       "</div>"
      ],
      "text/plain": [
       "                        test_acc  param_time  train_time  test_time\n",
       "data_name                                                          \n",
       "Adiac                   0.787468      2337.5      73.960        0.0\n",
       "ArrowHead               0.818571       657.3      68.090        0.0\n",
       "Beef                    0.800000       664.6      67.090        0.0\n",
       "BeetleFly               0.705000       657.3      66.320        0.0\n",
       "BirdChicken             0.862500       656.5      66.205        0.0\n",
       "...                          ...         ...         ...        ...\n",
       "ShapeletSim             0.912222       676.7      70.085        0.0\n",
       "ShapesAll               0.857917      5075.2     112.870        0.0\n",
       "SmallKitchenAppliances  0.686800      2597.5     103.220        0.0\n",
       "SonyAIBORobotSurface1   0.764892       658.3      68.485        0.0\n",
       "SonyAIBORobotSurface2   0.833788       662.1      68.605        0.0\n",
       "\n",
       "[65 rows x 4 columns]"
      ]
     },
     "execution_count": 6,
     "metadata": {},
     "output_type": "execute_result"
    }
   ],
   "source": [
    "test_results.groupby('data_name').mean()"
   ]
  },
  {
   "cell_type": "code",
   "execution_count": 6,
   "metadata": {},
   "outputs": [],
   "source": [
    "p1 = pd.read_csv('AllResultsNewApp_FS_Simple_Best_Additional_All_New_1.csv')\n",
    "p2 = pd.read_csv('AllResultsNewApp_FS_Simple_Best_Additional_All_New_2.csv')\n",
    "p3 = pd.read_csv('AllResultsNewApp_FS_Simple_Best_Additional_All_New_3.csv')\n",
    "p4 = pd.read_csv('AllResultsNewApp_FS_Simple_Best_Additional_All_New_4.csv')\n",
    "p5 = pd.read_csv('AllResultsNewApp_FS_Simple_Best_Additional_All_New_5.csv')\n",
    "p6 = pd.read_csv('AllResultsNewApp_FS_Simple_Best_Additional_All_New_6.csv')\n",
    "p7 = pd.read_csv('AllResultsNewApp_FS_Simple_Best_Additional_All_New_7.csv')\n",
    "p8 = pd.read_csv('AllResultsNewApp_FS_Simple_Best_Additional_All_New_8.csv')"
   ]
  },
  {
   "cell_type": "code",
   "execution_count": 7,
   "metadata": {},
   "outputs": [],
   "source": [
    "temp_list_names=list(set(datasets).difference(pd.concat([p1,p2,p3,p4,p5,p6,p7,p8])['data_name'].unique().tolist()))\n"
   ]
  },
  {
   "cell_type": "code",
   "execution_count": 9,
   "metadata": {},
   "outputs": [
    {
     "data": {
      "text/html": [
       "<div>\n",
       "<style scoped>\n",
       "    .dataframe tbody tr th:only-of-type {\n",
       "        vertical-align: middle;\n",
       "    }\n",
       "\n",
       "    .dataframe tbody tr th {\n",
       "        vertical-align: top;\n",
       "    }\n",
       "\n",
       "    .dataframe thead th {\n",
       "        text-align: right;\n",
       "    }\n",
       "</style>\n",
       "<table border=\"1\" class=\"dataframe\">\n",
       "  <thead>\n",
       "    <tr style=\"text-align: right;\">\n",
       "      <th></th>\n",
       "      <th>Unnamed: 0</th>\n",
       "      <th>data_name</th>\n",
       "      <th>method</th>\n",
       "      <th>distance_measure</th>\n",
       "      <th>normalize</th>\n",
       "      <th>rep</th>\n",
       "      <th>depth</th>\n",
       "      <th>ntree</th>\n",
       "      <th>test_acc</th>\n",
       "      <th>param_time</th>\n",
       "      <th>train_time</th>\n",
       "      <th>test_time</th>\n",
       "      <th>type</th>\n",
       "    </tr>\n",
       "  </thead>\n",
       "  <tbody>\n",
       "    <tr>\n",
       "      <th>0</th>\n",
       "      <td>0</td>\n",
       "      <td>ProximalPhalanxOutlineCorrect</td>\n",
       "      <td>d</td>\n",
       "      <td>manhattan</td>\n",
       "      <td>False</td>\n",
       "      <td>1</td>\n",
       "      <td>12</td>\n",
       "      <td>400</td>\n",
       "      <td>0.824742</td>\n",
       "      <td>4183.9</td>\n",
       "      <td>75.8</td>\n",
       "      <td>0.0</td>\n",
       "      <td>True</td>\n",
       "    </tr>\n",
       "    <tr>\n",
       "      <th>1</th>\n",
       "      <td>0</td>\n",
       "      <td>ProximalPhalanxOutlineCorrect</td>\n",
       "      <td>d</td>\n",
       "      <td>manhattan</td>\n",
       "      <td>False</td>\n",
       "      <td>2</td>\n",
       "      <td>12</td>\n",
       "      <td>400</td>\n",
       "      <td>0.838488</td>\n",
       "      <td>4183.9</td>\n",
       "      <td>75.9</td>\n",
       "      <td>0.0</td>\n",
       "      <td>True</td>\n",
       "    </tr>\n",
       "    <tr>\n",
       "      <th>2</th>\n",
       "      <td>0</td>\n",
       "      <td>ProximalPhalanxOutlineCorrect</td>\n",
       "      <td>d</td>\n",
       "      <td>manhattan</td>\n",
       "      <td>False</td>\n",
       "      <td>3</td>\n",
       "      <td>12</td>\n",
       "      <td>400</td>\n",
       "      <td>0.824742</td>\n",
       "      <td>4183.9</td>\n",
       "      <td>75.9</td>\n",
       "      <td>0.0</td>\n",
       "      <td>True</td>\n",
       "    </tr>\n",
       "    <tr>\n",
       "      <th>3</th>\n",
       "      <td>0</td>\n",
       "      <td>ProximalPhalanxOutlineCorrect</td>\n",
       "      <td>d</td>\n",
       "      <td>manhattan</td>\n",
       "      <td>False</td>\n",
       "      <td>4</td>\n",
       "      <td>12</td>\n",
       "      <td>400</td>\n",
       "      <td>0.831615</td>\n",
       "      <td>4183.9</td>\n",
       "      <td>75.8</td>\n",
       "      <td>0.0</td>\n",
       "      <td>True</td>\n",
       "    </tr>\n",
       "    <tr>\n",
       "      <th>4</th>\n",
       "      <td>0</td>\n",
       "      <td>ProximalPhalanxOutlineCorrect</td>\n",
       "      <td>d</td>\n",
       "      <td>manhattan</td>\n",
       "      <td>False</td>\n",
       "      <td>5</td>\n",
       "      <td>12</td>\n",
       "      <td>400</td>\n",
       "      <td>0.828179</td>\n",
       "      <td>4183.9</td>\n",
       "      <td>76.1</td>\n",
       "      <td>0.0</td>\n",
       "      <td>True</td>\n",
       "    </tr>\n",
       "    <tr>\n",
       "      <th>5</th>\n",
       "      <td>0</td>\n",
       "      <td>ProximalPhalanxOutlineCorrect</td>\n",
       "      <td>d</td>\n",
       "      <td>manhattan</td>\n",
       "      <td>False</td>\n",
       "      <td>6</td>\n",
       "      <td>12</td>\n",
       "      <td>400</td>\n",
       "      <td>0.838488</td>\n",
       "      <td>4183.9</td>\n",
       "      <td>75.7</td>\n",
       "      <td>0.0</td>\n",
       "      <td>True</td>\n",
       "    </tr>\n",
       "    <tr>\n",
       "      <th>6</th>\n",
       "      <td>0</td>\n",
       "      <td>ProximalPhalanxOutlineCorrect</td>\n",
       "      <td>d</td>\n",
       "      <td>manhattan</td>\n",
       "      <td>False</td>\n",
       "      <td>7</td>\n",
       "      <td>12</td>\n",
       "      <td>400</td>\n",
       "      <td>0.838488</td>\n",
       "      <td>4183.9</td>\n",
       "      <td>76.1</td>\n",
       "      <td>0.0</td>\n",
       "      <td>True</td>\n",
       "    </tr>\n",
       "    <tr>\n",
       "      <th>7</th>\n",
       "      <td>0</td>\n",
       "      <td>ProximalPhalanxOutlineCorrect</td>\n",
       "      <td>d</td>\n",
       "      <td>manhattan</td>\n",
       "      <td>False</td>\n",
       "      <td>8</td>\n",
       "      <td>12</td>\n",
       "      <td>400</td>\n",
       "      <td>0.831615</td>\n",
       "      <td>4183.9</td>\n",
       "      <td>75.9</td>\n",
       "      <td>0.0</td>\n",
       "      <td>True</td>\n",
       "    </tr>\n",
       "    <tr>\n",
       "      <th>8</th>\n",
       "      <td>0</td>\n",
       "      <td>ProximalPhalanxOutlineCorrect</td>\n",
       "      <td>d</td>\n",
       "      <td>manhattan</td>\n",
       "      <td>False</td>\n",
       "      <td>9</td>\n",
       "      <td>12</td>\n",
       "      <td>400</td>\n",
       "      <td>0.835052</td>\n",
       "      <td>4183.9</td>\n",
       "      <td>76.0</td>\n",
       "      <td>0.0</td>\n",
       "      <td>True</td>\n",
       "    </tr>\n",
       "    <tr>\n",
       "      <th>9</th>\n",
       "      <td>0</td>\n",
       "      <td>ProximalPhalanxOutlineCorrect</td>\n",
       "      <td>d</td>\n",
       "      <td>manhattan</td>\n",
       "      <td>False</td>\n",
       "      <td>10</td>\n",
       "      <td>12</td>\n",
       "      <td>400</td>\n",
       "      <td>0.828179</td>\n",
       "      <td>4183.9</td>\n",
       "      <td>76.0</td>\n",
       "      <td>0.0</td>\n",
       "      <td>True</td>\n",
       "    </tr>\n",
       "    <tr>\n",
       "      <th>10</th>\n",
       "      <td>0</td>\n",
       "      <td>ProximalPhalanxOutlineCorrect</td>\n",
       "      <td>d</td>\n",
       "      <td>manhattan</td>\n",
       "      <td>False</td>\n",
       "      <td>11</td>\n",
       "      <td>12</td>\n",
       "      <td>400</td>\n",
       "      <td>0.828179</td>\n",
       "      <td>4183.9</td>\n",
       "      <td>76.0</td>\n",
       "      <td>0.0</td>\n",
       "      <td>True</td>\n",
       "    </tr>\n",
       "    <tr>\n",
       "      <th>11</th>\n",
       "      <td>0</td>\n",
       "      <td>ProximalPhalanxOutlineCorrect</td>\n",
       "      <td>d</td>\n",
       "      <td>manhattan</td>\n",
       "      <td>False</td>\n",
       "      <td>12</td>\n",
       "      <td>12</td>\n",
       "      <td>400</td>\n",
       "      <td>0.835052</td>\n",
       "      <td>4183.9</td>\n",
       "      <td>75.8</td>\n",
       "      <td>0.0</td>\n",
       "      <td>True</td>\n",
       "    </tr>\n",
       "    <tr>\n",
       "      <th>12</th>\n",
       "      <td>0</td>\n",
       "      <td>ProximalPhalanxOutlineCorrect</td>\n",
       "      <td>d</td>\n",
       "      <td>manhattan</td>\n",
       "      <td>False</td>\n",
       "      <td>13</td>\n",
       "      <td>12</td>\n",
       "      <td>400</td>\n",
       "      <td>0.838488</td>\n",
       "      <td>4183.9</td>\n",
       "      <td>75.9</td>\n",
       "      <td>0.0</td>\n",
       "      <td>True</td>\n",
       "    </tr>\n",
       "    <tr>\n",
       "      <th>13</th>\n",
       "      <td>0</td>\n",
       "      <td>ProximalPhalanxOutlineCorrect</td>\n",
       "      <td>d</td>\n",
       "      <td>manhattan</td>\n",
       "      <td>False</td>\n",
       "      <td>14</td>\n",
       "      <td>12</td>\n",
       "      <td>400</td>\n",
       "      <td>0.835052</td>\n",
       "      <td>4183.9</td>\n",
       "      <td>75.9</td>\n",
       "      <td>0.0</td>\n",
       "      <td>True</td>\n",
       "    </tr>\n",
       "    <tr>\n",
       "      <th>14</th>\n",
       "      <td>0</td>\n",
       "      <td>ProximalPhalanxOutlineCorrect</td>\n",
       "      <td>d</td>\n",
       "      <td>manhattan</td>\n",
       "      <td>False</td>\n",
       "      <td>15</td>\n",
       "      <td>12</td>\n",
       "      <td>400</td>\n",
       "      <td>0.824742</td>\n",
       "      <td>4183.9</td>\n",
       "      <td>75.9</td>\n",
       "      <td>0.0</td>\n",
       "      <td>True</td>\n",
       "    </tr>\n",
       "    <tr>\n",
       "      <th>15</th>\n",
       "      <td>0</td>\n",
       "      <td>ProximalPhalanxOutlineCorrect</td>\n",
       "      <td>d</td>\n",
       "      <td>manhattan</td>\n",
       "      <td>False</td>\n",
       "      <td>16</td>\n",
       "      <td>12</td>\n",
       "      <td>400</td>\n",
       "      <td>0.838488</td>\n",
       "      <td>4183.9</td>\n",
       "      <td>75.9</td>\n",
       "      <td>0.0</td>\n",
       "      <td>True</td>\n",
       "    </tr>\n",
       "    <tr>\n",
       "      <th>16</th>\n",
       "      <td>0</td>\n",
       "      <td>ProximalPhalanxOutlineCorrect</td>\n",
       "      <td>d</td>\n",
       "      <td>manhattan</td>\n",
       "      <td>False</td>\n",
       "      <td>17</td>\n",
       "      <td>12</td>\n",
       "      <td>400</td>\n",
       "      <td>0.831615</td>\n",
       "      <td>4183.9</td>\n",
       "      <td>76.0</td>\n",
       "      <td>0.0</td>\n",
       "      <td>True</td>\n",
       "    </tr>\n",
       "    <tr>\n",
       "      <th>17</th>\n",
       "      <td>0</td>\n",
       "      <td>ProximalPhalanxOutlineCorrect</td>\n",
       "      <td>d</td>\n",
       "      <td>manhattan</td>\n",
       "      <td>False</td>\n",
       "      <td>18</td>\n",
       "      <td>12</td>\n",
       "      <td>400</td>\n",
       "      <td>0.824742</td>\n",
       "      <td>4183.9</td>\n",
       "      <td>75.8</td>\n",
       "      <td>0.0</td>\n",
       "      <td>True</td>\n",
       "    </tr>\n",
       "    <tr>\n",
       "      <th>18</th>\n",
       "      <td>0</td>\n",
       "      <td>ProximalPhalanxOutlineCorrect</td>\n",
       "      <td>d</td>\n",
       "      <td>manhattan</td>\n",
       "      <td>False</td>\n",
       "      <td>19</td>\n",
       "      <td>12</td>\n",
       "      <td>400</td>\n",
       "      <td>0.821306</td>\n",
       "      <td>4183.9</td>\n",
       "      <td>76.0</td>\n",
       "      <td>0.0</td>\n",
       "      <td>True</td>\n",
       "    </tr>\n",
       "    <tr>\n",
       "      <th>19</th>\n",
       "      <td>0</td>\n",
       "      <td>ProximalPhalanxOutlineCorrect</td>\n",
       "      <td>d</td>\n",
       "      <td>manhattan</td>\n",
       "      <td>False</td>\n",
       "      <td>20</td>\n",
       "      <td>12</td>\n",
       "      <td>400</td>\n",
       "      <td>0.835052</td>\n",
       "      <td>4183.9</td>\n",
       "      <td>76.0</td>\n",
       "      <td>0.0</td>\n",
       "      <td>True</td>\n",
       "    </tr>\n",
       "  </tbody>\n",
       "</table>\n",
       "</div>"
      ],
      "text/plain": [
       "    Unnamed: 0                      data_name method distance_measure  \\\n",
       "0            0  ProximalPhalanxOutlineCorrect      d        manhattan   \n",
       "1            0  ProximalPhalanxOutlineCorrect      d        manhattan   \n",
       "2            0  ProximalPhalanxOutlineCorrect      d        manhattan   \n",
       "3            0  ProximalPhalanxOutlineCorrect      d        manhattan   \n",
       "4            0  ProximalPhalanxOutlineCorrect      d        manhattan   \n",
       "5            0  ProximalPhalanxOutlineCorrect      d        manhattan   \n",
       "6            0  ProximalPhalanxOutlineCorrect      d        manhattan   \n",
       "7            0  ProximalPhalanxOutlineCorrect      d        manhattan   \n",
       "8            0  ProximalPhalanxOutlineCorrect      d        manhattan   \n",
       "9            0  ProximalPhalanxOutlineCorrect      d        manhattan   \n",
       "10           0  ProximalPhalanxOutlineCorrect      d        manhattan   \n",
       "11           0  ProximalPhalanxOutlineCorrect      d        manhattan   \n",
       "12           0  ProximalPhalanxOutlineCorrect      d        manhattan   \n",
       "13           0  ProximalPhalanxOutlineCorrect      d        manhattan   \n",
       "14           0  ProximalPhalanxOutlineCorrect      d        manhattan   \n",
       "15           0  ProximalPhalanxOutlineCorrect      d        manhattan   \n",
       "16           0  ProximalPhalanxOutlineCorrect      d        manhattan   \n",
       "17           0  ProximalPhalanxOutlineCorrect      d        manhattan   \n",
       "18           0  ProximalPhalanxOutlineCorrect      d        manhattan   \n",
       "19           0  ProximalPhalanxOutlineCorrect      d        manhattan   \n",
       "\n",
       "    normalize  rep  depth  ntree  test_acc  param_time  train_time  test_time  \\\n",
       "0       False    1     12    400  0.824742      4183.9        75.8        0.0   \n",
       "1       False    2     12    400  0.838488      4183.9        75.9        0.0   \n",
       "2       False    3     12    400  0.824742      4183.9        75.9        0.0   \n",
       "3       False    4     12    400  0.831615      4183.9        75.8        0.0   \n",
       "4       False    5     12    400  0.828179      4183.9        76.1        0.0   \n",
       "5       False    6     12    400  0.838488      4183.9        75.7        0.0   \n",
       "6       False    7     12    400  0.838488      4183.9        76.1        0.0   \n",
       "7       False    8     12    400  0.831615      4183.9        75.9        0.0   \n",
       "8       False    9     12    400  0.835052      4183.9        76.0        0.0   \n",
       "9       False   10     12    400  0.828179      4183.9        76.0        0.0   \n",
       "10      False   11     12    400  0.828179      4183.9        76.0        0.0   \n",
       "11      False   12     12    400  0.835052      4183.9        75.8        0.0   \n",
       "12      False   13     12    400  0.838488      4183.9        75.9        0.0   \n",
       "13      False   14     12    400  0.835052      4183.9        75.9        0.0   \n",
       "14      False   15     12    400  0.824742      4183.9        75.9        0.0   \n",
       "15      False   16     12    400  0.838488      4183.9        75.9        0.0   \n",
       "16      False   17     12    400  0.831615      4183.9        76.0        0.0   \n",
       "17      False   18     12    400  0.824742      4183.9        75.8        0.0   \n",
       "18      False   19     12    400  0.821306      4183.9        76.0        0.0   \n",
       "19      False   20     12    400  0.835052      4183.9        76.0        0.0   \n",
       "\n",
       "    type  \n",
       "0   True  \n",
       "1   True  \n",
       "2   True  \n",
       "3   True  \n",
       "4   True  \n",
       "5   True  \n",
       "6   True  \n",
       "7   True  \n",
       "8   True  \n",
       "9   True  \n",
       "10  True  \n",
       "11  True  \n",
       "12  True  \n",
       "13  True  \n",
       "14  True  \n",
       "15  True  \n",
       "16  True  \n",
       "17  True  \n",
       "18  True  \n",
       "19  True  "
      ]
     },
     "execution_count": 9,
     "metadata": {},
     "output_type": "execute_result"
    }
   ],
   "source": [
    "p8"
   ]
  },
  {
   "cell_type": "code",
   "execution_count": 13,
   "metadata": {},
   "outputs": [
    {
     "data": {
      "text/plain": [
       "array(['ChlorineConcentration', 'HandOutlines', 'ECG5000',\n",
       "       'StarLightCurves', 'UWaveGestureLibraryZ'], dtype='<U22')"
      ]
     },
     "execution_count": 13,
     "metadata": {},
     "output_type": "execute_result"
    }
   ],
   "source": [
    "np.array(temp_list_names)[[0,1,2,3,6]]"
   ]
  },
  {
   "cell_type": "code",
   "execution_count": 7,
   "metadata": {},
   "outputs": [
    {
     "name": "stdout",
     "output_type": "stream",
     "text": [
      "StarLightCurves\n",
      "Parameter selection is completed\n",
      "0.8845313258863526\n",
      "0.9582321515298688\n",
      "0.8697183098591549\n",
      "0.9465760077707625\n",
      "0.9061437591063624\n",
      "0.9199854298203011\n",
      "0.9052938319572608\n",
      "0.8307430791646431\n"
     ]
    },
    {
     "ename": "KeyboardInterrupt",
     "evalue": "",
     "output_type": "error",
     "traceback": [
      "\u001b[0;31m---------------------------------------------------------------------------\u001b[0m",
      "\u001b[0;31mKeyboardInterrupt\u001b[0m                         Traceback (most recent call last)",
      "\u001b[0;32m<ipython-input-7-38f69e667898>\u001b[0m in \u001b[0;36m<module>\u001b[0;34m\u001b[0m\n\u001b[1;32m     89\u001b[0m                 \u001b[0;32mfor\u001b[0m \u001b[0mb\u001b[0m \u001b[0;32min\u001b[0m \u001b[0mbatch_list\u001b[0m\u001b[0;34m:\u001b[0m\u001b[0;34m\u001b[0m\u001b[0;34m\u001b[0m\u001b[0m\n\u001b[1;32m     90\u001b[0m                         \u001b[0mrepresent_train\u001b[0m\u001b[0;34m,\u001b[0m \u001b[0mrepresent_test\u001b[0m\u001b[0;34m,\u001b[0m \u001b[0mtrain_id\u001b[0m\u001b[0;34m,\u001b[0m \u001b[0mtest_id\u001b[0m \u001b[0;34m=\u001b[0m \u001b[0mprepare_data\u001b[0m\u001b[0;34m(\u001b[0m\u001b[0mX_train\u001b[0m\u001b[0;34m,\u001b[0m\u001b[0mX_test\u001b[0m\u001b[0;34m,\u001b[0m\u001b[0mmode\u001b[0m\u001b[0;34m=\u001b[0m\u001b[0mmethod\u001b[0m\u001b[0;34m)\u001b[0m\u001b[0;34m\u001b[0m\u001b[0;34m\u001b[0m\u001b[0m\n\u001b[0;32m---> 91\u001b[0;31m                         \u001b[0mtrainbow\u001b[0m\u001b[0;34m,\u001b[0m\u001b[0mtestbow\u001b[0m \u001b[0;34m=\u001b[0m \u001b[0mlearn_representation_sparse_2\u001b[0m\u001b[0;34m(\u001b[0m\u001b[0mrepresent_train\u001b[0m\u001b[0;34m,\u001b[0m \u001b[0mrepresent_test\u001b[0m\u001b[0;34m,\u001b[0m\u001b[0mlabels_train\u001b[0m\u001b[0;34m,\u001b[0m\u001b[0mlabels_test\u001b[0m\u001b[0;34m,\u001b[0m \u001b[0mtrain_id\u001b[0m\u001b[0;34m,\u001b[0m \u001b[0mtest_id\u001b[0m\u001b[0;34m,\u001b[0m \u001b[0mdepth\u001b[0m\u001b[0;34m,\u001b[0m \u001b[0mint\u001b[0m\u001b[0;34m(\u001b[0m\u001b[0;36m500\u001b[0m\u001b[0;34m/\u001b[0m\u001b[0mlen\u001b[0m\u001b[0;34m(\u001b[0m\u001b[0mbatch_list\u001b[0m\u001b[0;34m)\u001b[0m\u001b[0;34m)\u001b[0m\u001b[0;34m,\u001b[0m\u001b[0mrep\u001b[0m\u001b[0;34m,\u001b[0m \u001b[0mis_terminal\u001b[0m\u001b[0;34m,\u001b[0m\u001b[0mnormal\u001b[0m\u001b[0;34m=\u001b[0m\u001b[0mn\u001b[0m\u001b[0;34m)\u001b[0m\u001b[0;34m\u001b[0m\u001b[0;34m\u001b[0m\u001b[0m\n\u001b[0m\u001b[1;32m     92\u001b[0m \u001b[0;34m\u001b[0m\u001b[0m\n\u001b[1;32m     93\u001b[0m \u001b[0;34m\u001b[0m\u001b[0m\n",
      "\u001b[0;32m~/Desktop/Time Series Classification/v2/src3.py\u001b[0m in \u001b[0;36mlearn_representation_sparse_2\u001b[0;34m(represent_train, represent_test, labels_train, labels_test, train_id, test_id, depth, ntree, random_seed, is_terminal, normal)\u001b[0m\n\u001b[1;32m    218\u001b[0m \u001b[0;34m\u001b[0m\u001b[0m\n\u001b[1;32m    219\u001b[0m         \u001b[0mtraincv\u001b[0m\u001b[0;34m=\u001b[0m\u001b[0mrepresent_train\u001b[0m\u001b[0;34m\u001b[0m\u001b[0;34m\u001b[0m\u001b[0m\n\u001b[0;32m--> 220\u001b[0;31m         \u001b[0mtrainind\u001b[0m\u001b[0;34m=\u001b[0m\u001b[0mnp\u001b[0m\u001b[0;34m.\u001b[0m\u001b[0munique\u001b[0m\u001b[0;34m(\u001b[0m\u001b[0mtrain_id\u001b[0m\u001b[0;34m)\u001b[0m\u001b[0;34m\u001b[0m\u001b[0;34m\u001b[0m\u001b[0m\n\u001b[0m\u001b[1;32m    221\u001b[0m         \u001b[0mtrainlabels\u001b[0m\u001b[0;34m=\u001b[0m\u001b[0mlabels_train\u001b[0m\u001b[0;34m\u001b[0m\u001b[0;34m\u001b[0m\u001b[0m\n\u001b[1;32m    222\u001b[0m \u001b[0;34m\u001b[0m\u001b[0m\n",
      "\u001b[0;32m<__array_function__ internals>\u001b[0m in \u001b[0;36munique\u001b[0;34m(*args, **kwargs)\u001b[0m\n",
      "\u001b[0;32m~/anaconda3/lib/python3.7/site-packages/numpy/lib/arraysetops.py\u001b[0m in \u001b[0;36munique\u001b[0;34m(ar, return_index, return_inverse, return_counts, axis)\u001b[0m\n\u001b[1;32m    258\u001b[0m \u001b[0;34m\u001b[0m\u001b[0m\n\u001b[1;32m    259\u001b[0m     \"\"\"\n\u001b[0;32m--> 260\u001b[0;31m     \u001b[0mar\u001b[0m \u001b[0;34m=\u001b[0m \u001b[0mnp\u001b[0m\u001b[0;34m.\u001b[0m\u001b[0masanyarray\u001b[0m\u001b[0;34m(\u001b[0m\u001b[0mar\u001b[0m\u001b[0;34m)\u001b[0m\u001b[0;34m\u001b[0m\u001b[0;34m\u001b[0m\u001b[0m\n\u001b[0m\u001b[1;32m    261\u001b[0m     \u001b[0;32mif\u001b[0m \u001b[0maxis\u001b[0m \u001b[0;32mis\u001b[0m \u001b[0;32mNone\u001b[0m\u001b[0;34m:\u001b[0m\u001b[0;34m\u001b[0m\u001b[0;34m\u001b[0m\u001b[0m\n\u001b[1;32m    262\u001b[0m         \u001b[0mret\u001b[0m \u001b[0;34m=\u001b[0m \u001b[0m_unique1d\u001b[0m\u001b[0;34m(\u001b[0m\u001b[0mar\u001b[0m\u001b[0;34m,\u001b[0m \u001b[0mreturn_index\u001b[0m\u001b[0;34m,\u001b[0m \u001b[0mreturn_inverse\u001b[0m\u001b[0;34m,\u001b[0m \u001b[0mreturn_counts\u001b[0m\u001b[0;34m)\u001b[0m\u001b[0;34m\u001b[0m\u001b[0;34m\u001b[0m\u001b[0m\n",
      "\u001b[0;32m~/anaconda3/lib/python3.7/site-packages/numpy/core/_asarray.py\u001b[0m in \u001b[0;36masanyarray\u001b[0;34m(a, dtype, order)\u001b[0m\n\u001b[1;32m    136\u001b[0m \u001b[0;34m\u001b[0m\u001b[0m\n\u001b[1;32m    137\u001b[0m     \"\"\"\n\u001b[0;32m--> 138\u001b[0;31m     \u001b[0;32mreturn\u001b[0m \u001b[0marray\u001b[0m\u001b[0;34m(\u001b[0m\u001b[0ma\u001b[0m\u001b[0;34m,\u001b[0m \u001b[0mdtype\u001b[0m\u001b[0;34m,\u001b[0m \u001b[0mcopy\u001b[0m\u001b[0;34m=\u001b[0m\u001b[0;32mFalse\u001b[0m\u001b[0;34m,\u001b[0m \u001b[0morder\u001b[0m\u001b[0;34m=\u001b[0m\u001b[0morder\u001b[0m\u001b[0;34m,\u001b[0m \u001b[0msubok\u001b[0m\u001b[0;34m=\u001b[0m\u001b[0;32mTrue\u001b[0m\u001b[0;34m)\u001b[0m\u001b[0;34m\u001b[0m\u001b[0;34m\u001b[0m\u001b[0m\n\u001b[0m\u001b[1;32m    139\u001b[0m \u001b[0;34m\u001b[0m\u001b[0m\n\u001b[1;32m    140\u001b[0m \u001b[0;34m\u001b[0m\u001b[0m\n",
      "\u001b[0;31mKeyboardInterrupt\u001b[0m: "
     ]
    }
   ],
   "source": [
    "test_results = pd.DataFrame(columns=['data_name','method','distance_measure','normalize','rep','depth','ntree','test_acc','param_time','train_time','test_time'])\n",
    "results = pd.DataFrame(columns=['data_name','method','distance_measure','normalize','rep','depth','ntree','oob_acc'])\n",
    "\n",
    "depth_cv = [6,8,10,12]\n",
    "ntree_cv = [100]\n",
    "term_cv = [True]\n",
    "rep_num = 10\n",
    "method_list = ['l','d','b']\n",
    "distance_list = ['manhattan']\n",
    "normal_list = [False]\n",
    "batch_list = list(range(10))\n",
    "\n",
    "data_name=\"CBF\"\n",
    "directory = \"/home/ml_berkgorgulu/Desktop/TSCProblems/\"\n",
    "datasets = listdir(directory)\n",
    "datasets.sort()\n",
    "#dsum = data_summary(directory)\n",
    "\n",
    "#run_data = dsum.sort_values(by=['total'])['data'].values[60:70].tolist()\n",
    "\n",
    "for ddd in [65]:\n",
    "\tdata_name = datasets[ddd]\n",
    "\tprint(data_name)\n",
    "\ttrain,test,labels_train,labels_test,X_train,X_test = load_data(directory,data_name)\n",
    "\t#print(data_name+\" is loaded!\")\n",
    "\tresults = pd.DataFrame(columns=['data_name','method','distance_measure','normalize','rep','depth','ntree','var','oob_acc'])\n",
    "\tparam_time = time.time()\n",
    "\tfor method in method_list:\n",
    "\t\trepresent_train, represent_test, train_id, test_id = prepare_data(X_train,X_test,mode=method)\n",
    "\t\t#print(data_name+\" is prepared!\")\n",
    "\t\t#print(\"CV starts\")\n",
    "\t\tfor distance_measure in distance_list:\n",
    "\t\t\tfor rep in range(rep_num):\n",
    "\t\t\t\tprint(rep)\n",
    "\t\t\t\tfor depth in depth_cv:\n",
    "\t\t\t\t\tfor ntree in ntree_cv:\n",
    "\t\t\t\t\t\tfor is_terminal in term_cv: \n",
    "\t\t\t\t\t\t\tfor n in [0,10,25,50,75]:\n",
    "\t\t\t\t\t\t\t\tfirst = True\n",
    "\t\t\t\t\t\t\t\tfor b in batch_list:\n",
    "\t\t\t\t\t\t\t\t\trepresent_train, represent_test, train_id, test_id = prepare_data(X_train,X_test,mode=method)\n",
    "\n",
    "\t\t\t\t\t\t\t\t\ttrainbow,testbow = learn_representation_sparse_2(represent_train, None,labels_train,labels_test, train_id, test_id, depth, int(ntree/len(batch_list)),rep, is_terminal,normal=False)\n",
    "\t\t\t\t\t\t\t\t\tsel = VarianceThreshold(threshold=0)\n",
    "\t\t\t\t\t\t\t\t\ttrainbow = sel.fit_transform(trainbow)\n",
    "\t\t\t\t\t\t\t\t\t#testbow = sel.fit_transform(testbow)                                    \n",
    "\t\t\t\t\t\t\t\t\tvalss = np.percentile(np.var(trainbow.todense(),axis=0),n,axis=1)\n",
    "                                    \n",
    "\t\t\t\t\t\t\t\t\tsel = VarianceThreshold(threshold=valss)\n",
    "\t\t\t\t\t\t\t\t\ttrainbow = sel.fit_transform(trainbow)\n",
    "\t\t\t\t\t\t\t\t\t#testbow = sel.fit_transform(testbow)                       \n",
    "                                    \n",
    "\t\t\t\t\t\t\t\t\tif first is True:\n",
    "\t\t\t\t\t\t\t\t\t\tdistTrain=pairwise_distances(trainbow,metric=\"manhattan\",n_jobs=-1)       \n",
    "\t\t\t\t\t\t\t\t\t\tfirst = False\n",
    "\t\t\t\t\t\t\t\t\telse:\n",
    "\t\t\t\t\t\t\t\t\t\tdistTrain=distTrain+ pairwise_distances(trainbow,metric=\"manhattan\",n_jobs=-1)\n",
    "\t\t\t\t\t\t\t\t\tdel trainbow\n",
    "\t\t\t\t\t\t\t\t\tdel testbow\n",
    "\t\t\t\t\t\t\t\t\tgc.collect()\n",
    "\t\t\t\t\t\t\t\tnp.fill_diagonal(distTrain, 1000000000000)\n",
    "\t\t\t\t\t\t\t\tnncl=KNeighborsClassifier(n_neighbors=1,metric='precomputed')\n",
    "\t\t\t\t\t\t\t\tnnfit=nncl.fit(distTrain,labels_train)\n",
    "\t\t\t\t\t\t\t\tpredicted_train = nnfit.predict(distTrain)\n",
    "\t\t\t\t\t\t\t\tcv_accuracy = accuracy_score(labels_train,predicted_train)\n",
    "\t\t\t\t\t\t\t\t#test_accuracy = test_model(trainbow,testbow,labels_train,labels_test,metric = distance_measure) \n",
    "\t\t\t\t\t\t\t\ttemp_results = pd.DataFrame({'data_name':[data_name],'method':method,'distance_measure':[distance_measure],'normalize':[False],'rep':[rep+1],'depth':[depth],'ntree':[ntree],'var':[n],'type':[is_terminal],'oob_acc':[cv_accuracy]})\n",
    "\n",
    "                                #temp_results = pd.DataFrame({'data_name':[data_name],'method':method,'distance_measure':[distance_measure],'normalize':[n],'rep':[rep+1],'depth':[depth],'ntree':[ntree],'type':[is_terminal],'oob_acc':[cv_accuracy],'test_acc':[test_accuracy]})\n",
    "\t\t\t\t\t\t\t\t#print(temp_results)\n",
    "\t\t\t\t\t\t\t\tresults = results.append(temp_results,sort=False)\n",
    "\n",
    "                                \n",
    "\t\n",
    "\t#summary = results.groupby(['method','normalize','depth','var']).mean().reset_index()[results.groupby(['method','normalize','depth','var']).mean().reset_index()['oob_acc'] == results.groupby(['method','normalize','depth','var']).mean().reset_index()['oob_acc'].max()].reset_index(drop=True).sort_values(['method'],ascending=False).iloc[0]\n",
    "\tsummary = {'method':'d','normalize':False,'depth':10,'var':10}\n",
    "\tmethod = summary['method']\n",
    "\tn = summary['normalize']\n",
    "\tdepth = summary['depth']\n",
    "\tvar = summary['var']\n",
    "\tis_terminal = True\n",
    "\tprint('Parameter selection is completed')\n",
    "\tparam_time = time.time()-param_time\n",
    "\tfor rep in range(20):\n",
    "\t\ttrain_time = time.time()\n",
    "\t\tfirst = True\n",
    "\t\tbatch_list = list(range(500))\n",
    "\t\tfor b in batch_list:\n",
    "\t\t\trepresent_train, represent_test, train_id, test_id = prepare_data(X_train,X_test,mode=method)\n",
    "\t\t\ttrainbow,testbow = learn_representation_sparse_2(represent_train, represent_test,labels_train,labels_test, train_id, test_id, depth, int(500/len(batch_list)),rep, is_terminal,normal=n)\n",
    "\t\t\t\n",
    "\n",
    "\t\t\tsel = VarianceThreshold(threshold=0)\n",
    "\t\t\ttrainbow = sel.fit_transform(trainbow)\n",
    "\t\t\ttestbow = sel.transform(testbow)                                    \n",
    "\t\t\t\t\t\t\t\t\t\n",
    "\t\t\tvalss = np.percentile(np.var(trainbow.todense(),axis=0),var,axis=1)\n",
    "                                    \n",
    "\t\t\tsel = VarianceThreshold(threshold=valss)\n",
    "\t\t\ttrainbow_1 = sel.fit_transform(trainbow)\n",
    "\t\t\ttestbow_1 = sel.transform(testbow)     \n",
    "            \n",
    "\n",
    "\t\t\tif first is True:\n",
    "\t\t\t\tdistTrainTest=pairwise_distances(trainbow_1,testbow_1,metric='manhattan',n_jobs=-1) \n",
    "\t\t\t\tfirst = False\n",
    "\t\t\telse:\n",
    "\t\t\t\tdistTrainTest = distTrainTest +pairwise_distances(trainbow_1,testbow_1,metric='manhattan',n_jobs = -1) \n",
    "\t\t\tdel trainbow\n",
    "\t\t\tdel testbow\n",
    "\t\t\tgc.collect()\n",
    "        \n",
    "\t\ttrain_time = time.time()-train_time\n",
    "\t\ttest_time = time.time()\n",
    "\t\tpredicted_test = np.array(labels_train)[np.argmin(distTrainTest, axis=0)]\n",
    "\t\ttest_accuracy=accuracy_score(labels_test,predicted_test)\n",
    "\t\tdistance_measure = 'manhattan'\n",
    "\t\ttest_time = time.time()-test_time\n",
    "\t\ttemp_results = pd.DataFrame({'data_name':[data_name],'method':method,'distance_measure':[distance_measure],'normalize':[n],'rep':[rep+1],'depth':[depth],'ntree':[400],'type':[is_terminal],'test_acc':[test_accuracy],'param_time':[np.round(param_time,1)],'train_time':[np.round(train_time,1)],'test_time':[np.round(test_time,1)]})\n",
    "\t\ttest_results = test_results.append(temp_results,sort=False)\n",
    "\n",
    "\t\tprint(test_accuracy)    \n",
    "\ttest_results.to_csv('AllResultsNewApp_FS_Simple_Best_Additional_3.csv')\n",
    "print(np.mean(test_results['test_acc']))"
   ]
  },
  {
   "cell_type": "code",
   "execution_count": 37,
   "metadata": {
    "scrolled": true
   },
   "outputs": [
    {
     "data": {
      "text/html": [
       "<div>\n",
       "<style scoped>\n",
       "    .dataframe tbody tr th:only-of-type {\n",
       "        vertical-align: middle;\n",
       "    }\n",
       "\n",
       "    .dataframe tbody tr th {\n",
       "        vertical-align: top;\n",
       "    }\n",
       "\n",
       "    .dataframe thead th {\n",
       "        text-align: right;\n",
       "    }\n",
       "</style>\n",
       "<table border=\"1\" class=\"dataframe\">\n",
       "  <thead>\n",
       "    <tr style=\"text-align: right;\">\n",
       "      <th></th>\n",
       "      <th>test_acc</th>\n",
       "      <th>param_time</th>\n",
       "      <th>train_time</th>\n",
       "      <th>test_time</th>\n",
       "    </tr>\n",
       "    <tr>\n",
       "      <th>data_name</th>\n",
       "      <th></th>\n",
       "      <th></th>\n",
       "      <th></th>\n",
       "      <th></th>\n",
       "    </tr>\n",
       "  </thead>\n",
       "  <tbody>\n",
       "    <tr>\n",
       "      <td>ElectricDevices</td>\n",
       "      <td>0.680781</td>\n",
       "      <td>571668.1</td>\n",
       "      <td>459.65</td>\n",
       "      <td>0.1</td>\n",
       "    </tr>\n",
       "    <tr>\n",
       "      <td>FordA</td>\n",
       "      <td>0.713135</td>\n",
       "      <td>38877.7</td>\n",
       "      <td>2286.45</td>\n",
       "      <td>0.0</td>\n",
       "    </tr>\n",
       "    <tr>\n",
       "      <td>FordB</td>\n",
       "      <td>0.691144</td>\n",
       "      <td>18079.0</td>\n",
       "      <td>1362.30</td>\n",
       "      <td>0.0</td>\n",
       "    </tr>\n",
       "    <tr>\n",
       "      <td>NonInvasiveFatalECGThorax1</td>\n",
       "      <td>0.852417</td>\n",
       "      <td>55808.8</td>\n",
       "      <td>2618.60</td>\n",
       "      <td>0.0</td>\n",
       "    </tr>\n",
       "    <tr>\n",
       "      <td>NonInvasiveFatalECGThorax2</td>\n",
       "      <td>0.881934</td>\n",
       "      <td>50825.3</td>\n",
       "      <td>1044.95</td>\n",
       "      <td>0.0</td>\n",
       "    </tr>\n",
       "    <tr>\n",
       "      <td>PhalangesOutlinesCorrect</td>\n",
       "      <td>0.756993</td>\n",
       "      <td>14679.0</td>\n",
       "      <td>188.25</td>\n",
       "      <td>0.0</td>\n",
       "    </tr>\n",
       "    <tr>\n",
       "      <td>Phoneme</td>\n",
       "      <td>0.241561</td>\n",
       "      <td>7023.1</td>\n",
       "      <td>360.60</td>\n",
       "      <td>0.0</td>\n",
       "    </tr>\n",
       "    <tr>\n",
       "      <td>ShapesAll</td>\n",
       "      <td>0.855000</td>\n",
       "      <td>12883.1</td>\n",
       "      <td>161.10</td>\n",
       "      <td>0.0</td>\n",
       "    </tr>\n",
       "  </tbody>\n",
       "</table>\n",
       "</div>"
      ],
      "text/plain": [
       "                            test_acc  param_time  train_time  test_time\n",
       "data_name                                                              \n",
       "ElectricDevices             0.680781    571668.1      459.65        0.1\n",
       "FordA                       0.713135     38877.7     2286.45        0.0\n",
       "FordB                       0.691144     18079.0     1362.30        0.0\n",
       "NonInvasiveFatalECGThorax1  0.852417     55808.8     2618.60        0.0\n",
       "NonInvasiveFatalECGThorax2  0.881934     50825.3     1044.95        0.0\n",
       "PhalangesOutlinesCorrect    0.756993     14679.0      188.25        0.0\n",
       "Phoneme                     0.241561      7023.1      360.60        0.0\n",
       "ShapesAll                   0.855000     12883.1      161.10        0.0"
      ]
     },
     "execution_count": 37,
     "metadata": {},
     "output_type": "execute_result"
    }
   ],
   "source": [
    "test_results.groupby('data_name').median()"
   ]
  },
  {
   "cell_type": "code",
   "execution_count": 39,
   "metadata": {},
   "outputs": [],
   "source": [
    "selected_summary = summary"
   ]
  },
  {
   "cell_type": "code",
   "execution_count": null,
   "metadata": {},
   "outputs": [],
   "source": [
    "test_results.to_csv('AllResultsNewApp_FS_Simple_Best_11.csv')"
   ]
  },
  {
   "cell_type": "code",
   "execution_count": null,
   "metadata": {},
   "outputs": [],
   "source": []
  },
  {
   "cell_type": "code",
   "execution_count": null,
   "metadata": {},
   "outputs": [],
   "source": [
    "test_results.to_csv('AllResultsNewApp_FS_Simple_Best_9.csv')"
   ]
  },
  {
   "cell_type": "code",
   "execution_count": null,
   "metadata": {},
   "outputs": [],
   "source": [
    "path = directory+data_name+\"\\\\\"\n",
    "np.genfromtxt(path+data_name+'_TRAIN.txt')"
   ]
  },
  {
   "cell_type": "code",
   "execution_count": null,
   "metadata": {},
   "outputs": [],
   "source": [
    "path+data_name"
   ]
  },
  {
   "cell_type": "code",
   "execution_count": null,
   "metadata": {},
   "outputs": [],
   "source": [
    "sel = VarianceThreshold(threshold=0)\n",
    "t2 = sel.fit_transform(trainbow)"
   ]
  },
  {
   "cell_type": "code",
   "execution_count": null,
   "metadata": {},
   "outputs": [],
   "source": [
    "path = directory+data_name+\"\\\\\"\n",
    "train = np.genfromtxt(path+data_name+'_TRAIN.txt')\n",
    "test = np.genfromtxt(path+data_name+'_TEST.txt')\n",
    "\n",
    "labels_train= np.array(train[:,0],dtype=np.int16)\n",
    "X_train= train[:,1:train.shape[1]]\n",
    "labels_test= np.array(test[:,0],dtype=np.int16)\n",
    "X_test= test[:,1:test.shape[1]]"
   ]
  },
  {
   "cell_type": "code",
   "execution_count": null,
   "metadata": {},
   "outputs": [],
   "source": [
    "X_train"
   ]
  },
  {
   "cell_type": "code",
   "execution_count": null,
   "metadata": {},
   "outputs": [],
   "source": [
    "represent_train, represent_test, train_id, test_id = prepare_data(X_train,X_test,mode=method)\n",
    "trainbow,testbow = learn_representation_sparse_2(represent_train, represent_test,labels_train,labels_test, train_id, test_id, 10, 500,rep, is_terminal,normal=n)\n",
    "distTrainTest=pairwise_distances(trainbow,testbow,metric='manhattan') \n",
    "predicted_test = np.array(labels_train)[np.argmin(distTrainTest, axis=0)]\n",
    "accuracy_score(labels_test,predicted_test)"
   ]
  },
  {
   "cell_type": "code",
   "execution_count": null,
   "metadata": {},
   "outputs": [],
   "source": [
    "distTrainTest=pairwise_distances(trainbow[:,reg.coef_!=0],testbow[:,reg.coef_!=0],metric='manhattan') \n",
    "predicted_test = np.array(labels_train)[np.argmin(distTrainTest, axis=0)]\n",
    "accuracy_score(labels_test,predicted_test)"
   ]
  },
  {
   "cell_type": "code",
   "execution_count": null,
   "metadata": {},
   "outputs": [],
   "source": [
    "from sklearn.linear_model import LogisticRegressionCV\n",
    "log = LogisticRegressionCV(Cs=10)\n",
    "log.fit(trainbow, labels_train)\n",
    "accuracy_score(labels_test,log.predict(testbow))"
   ]
  },
  {
   "cell_type": "code",
   "execution_count": null,
   "metadata": {},
   "outputs": [],
   "source": [
    "trainbow"
   ]
  },
  {
   "cell_type": "code",
   "execution_count": null,
   "metadata": {},
   "outputs": [],
   "source": [
    "distTrainTest2=pairwise_distances(trainbow[:,(log.coef_!=0)[0]],testbow[:,(log.coef_!=0)[0]],metric='manhattan') \n",
    "predicted_test = np.array(labels_train)[np.argmin(distTrainTest2, axis=0)]\n",
    "accuracy_score(labels_test,predicted_test)"
   ]
  },
  {
   "cell_type": "code",
   "execution_count": null,
   "metadata": {},
   "outputs": [],
   "source": [
    "np.array_equal(distTrainTest,distTrainTest2)"
   ]
  },
  {
   "cell_type": "code",
   "execution_count": null,
   "metadata": {},
   "outputs": [],
   "source": [
    "trainbow[:,(log.coef_!=0)[0]]"
   ]
  },
  {
   "cell_type": "code",
   "execution_count": null,
   "metadata": {},
   "outputs": [],
   "source": [
    "trainbow"
   ]
  },
  {
   "cell_type": "code",
   "execution_count": null,
   "metadata": {},
   "outputs": [],
   "source": [
    "np.sort(test_results['test_acc'])"
   ]
  },
  {
   "cell_type": "code",
   "execution_count": null,
   "metadata": {},
   "outputs": [],
   "source": [
    "from sklearn.ensemble import ExtraTreesClassifier,RandomForestClassifier\n",
    "from sklearn.datasets import load_iris\n",
    "from sklearn.feature_selection import SelectFromModel\n",
    "\n",
    "clf = ExtraTreesClassifier(n_estimators=100)\n",
    "clf = clf.fit(trainbow, labels_train)\n",
    "clf.feature_importances_  \n",
    "\n",
    "model = SelectFromModel(clf, prefit=True)\n",
    "\n",
    "trainbow_1 = model.transform(trainbow)\n",
    "testbow_1 = model.transform(testbow)\n",
    "\n",
    "distTrainTest2=pairwise_distances(trainbow_1,testbow_1,metric='manhattan') \n",
    "predicted_test = np.array(labels_train)[np.argmin(distTrainTest2, axis=0)]\n",
    "accuracy_score(labels_test,predicted_test)"
   ]
  },
  {
   "cell_type": "code",
   "execution_count": null,
   "metadata": {},
   "outputs": [],
   "source": [
    "clf = RandomForestClassifier(n_estimators=50)\n",
    "clf = clf.fit(trainbow, labels_train)\n",
    "accuracy_score(labels_test,clf.predict(testbow))"
   ]
  },
  {
   "cell_type": "code",
   "execution_count": null,
   "metadata": {},
   "outputs": [],
   "source": [
    "trainbow_1.shape"
   ]
  },
  {
   "cell_type": "code",
   "execution_count": null,
   "metadata": {},
   "outputs": [],
   "source": [
    "summary"
   ]
  },
  {
   "cell_type": "code",
   "execution_count": null,
   "metadata": {},
   "outputs": [],
   "source": [
    "train,test,labels_train,labels_test,X_train,X_test = load_data(directory,'UWaveGestureLibraryX')\n",
    "represent_train, represent_test, train_id, test_id = prepare_data(X_train,X_test,mode='d')\n",
    "\n",
    "trainbow,testbow = learn_representation(represent_train, represent_test,labels_train,labels_test, train_id, test_id, depth, ntree,rep, is_terminal,normal=n)\n"
   ]
  },
  {
   "cell_type": "code",
   "execution_count": null,
   "metadata": {},
   "outputs": [],
   "source": [
    "trainbow"
   ]
  },
  {
   "cell_type": "code",
   "execution_count": null,
   "metadata": {},
   "outputs": [],
   "source": [
    "rt = RandomTreesEmbedding(max_depth=depth,n_estimators=ntree,random_state =1)\n",
    "\n",
    "traincv=represent_train\n",
    "testcv=represent_test\n",
    "trainind=np.unique(train_id)\n",
    "testind=np.unique(test_id)\n",
    "\n",
    "trainlabels=labels_train\n",
    "testlabels=labels_test\n",
    "\n",
    "randTrees=rt.fit(traincv.values)\n"
   ]
  },
  {
   "cell_type": "code",
   "execution_count": null,
   "metadata": {},
   "outputs": [],
   "source": [
    "temp = pd.DataFrame(trainRep)\n",
    "temp['ID'] = train_id "
   ]
  },
  {
   "cell_type": "code",
   "execution_count": null,
   "metadata": {},
   "outputs": [],
   "source": [
    "trainRep[:,]\n",
    "train_id"
   ]
  },
  {
   "cell_type": "code",
   "execution_count": null,
   "metadata": {},
   "outputs": [],
   "source": [
    "def train_f(c):\n",
    "    global train_id\n",
    "    return sparse.coo_matrix(([1]*len(train_id), (train_id, c)))"
   ]
  },
  {
   "cell_type": "code",
   "execution_count": null,
   "metadata": {},
   "outputs": [],
   "source": [
    "k = time.time()\n",
    "trainRep=randTrees.apply(traincv.values)\n",
    "testRep=randTrees.apply(testcv.values)\n",
    "a = np.apply_along_axis(train_f, 0, trainRep)\n",
    "sparse.hstack(a)\n",
    "print(time.time()-k)"
   ]
  },
  {
   "cell_type": "code",
   "execution_count": null,
   "metadata": {},
   "outputs": [],
   "source": [
    "k = time.time()\n",
    "trainRep=randTrees.transform(traincv.values)\n",
    "testRep=randTrees.transform(testcv.values)\n",
    "\n",
    "newId=np.unique(train_id)\n",
    "Mask = sparse.csr_matrix((np.ones(traincv.shape[0],int),(train_id, np.arange(traincv.shape[0]))), shape=(newId.shape[0],traincv.shape[0]))\n",
    "\n",
    "trainbow = Mask * trainRep\n",
    "\n",
    "newId=np.unique(test_id)\n",
    "Mask = sparse.csr_matrix((np.ones(testcv.shape[0],int),(test_id, np.arange(testcv.shape[0]))), shape=(newId.shape[0],testcv.shape[0]))\n",
    "\n",
    "testbow = Mask * testRep              \n",
    "\n",
    "print(time.time()-k)"
   ]
  },
  {
   "cell_type": "code",
   "execution_count": null,
   "metadata": {},
   "outputs": [],
   "source": [
    "pd.Categorical.from_array(trainRep)"
   ]
  },
  {
   "cell_type": "code",
   "execution_count": null,
   "metadata": {},
   "outputs": [],
   "source": [
    "pd.DataFrame(trainRep).apply(pd.value_counts)"
   ]
  },
  {
   "cell_type": "code",
   "execution_count": null,
   "metadata": {},
   "outputs": [],
   "source": [
    "temp2 = pd.get_dummies(pd.DataFrame(trainRep).astype('category'),sparse=True)\n",
    "temp2['ID'] = train_id\n",
    "temp2.groupby('ID').sum()"
   ]
  },
  {
   "cell_type": "code",
   "execution_count": null,
   "metadata": {},
   "outputs": [],
   "source": [
    "pd.crosstab(train_id,np.unique(trainRep),trainRep,aggfunc='count')"
   ]
  },
  {
   "cell_type": "code",
   "execution_count": null,
   "metadata": {},
   "outputs": [],
   "source": [
    "np.unique(trainRep)"
   ]
  },
  {
   "cell_type": "code",
   "execution_count": null,
   "metadata": {},
   "outputs": [],
   "source": [
    "pd.get_dummies(pd.DataFrame(trainRep))"
   ]
  },
  {
   "cell_type": "code",
   "execution_count": null,
   "metadata": {},
   "outputs": [],
   "source": []
  },
  {
   "cell_type": "code",
   "execution_count": null,
   "metadata": {},
   "outputs": [],
   "source": [
    "pd.crosstab(train_id,np.unique(trainRep))"
   ]
  },
  {
   "cell_type": "code",
   "execution_count": null,
   "metadata": {},
   "outputs": [],
   "source": [
    "pd.pivot_table()"
   ]
  },
  {
   "cell_type": "code",
   "execution_count": null,
   "metadata": {},
   "outputs": [],
   "source": [
    "trainRep=randTrees.apply(traincv.astype(np.float32).values)\n",
    "\n"
   ]
  },
  {
   "cell_type": "code",
   "execution_count": null,
   "metadata": {},
   "outputs": [],
   "source": [
    "temp = pd.DataFrame(trainRep)\n",
    "temp['ID'] = train_id"
   ]
  },
  {
   "cell_type": "code",
   "execution_count": null,
   "metadata": {},
   "outputs": [],
   "source": [
    "t"
   ]
  },
  {
   "cell_type": "code",
   "execution_count": null,
   "metadata": {},
   "outputs": [],
   "source": [
    "temp.groupby('ID').size().unstack(fill_value=0)"
   ]
  },
  {
   "cell_type": "code",
   "execution_count": null,
   "metadata": {},
   "outputs": [],
   "source": [
    "pd.DataFrame(trainRep).apply(lambda x: x.value_counts())"
   ]
  },
  {
   "cell_type": "code",
   "execution_count": null,
   "metadata": {},
   "outputs": [],
   "source": [
    "newId=np.unique(train_id)\n",
    "Mask = sparse.csr_matrix((np.ones(traincv.shape[0],int),(train_id, np.arange(traincv.shape[0]))), shape=(newId.shape[0],traincv.shape[0]))\n",
    "\n",
    "trainbow = Mask * trainRep\n",
    "\n",
    "newId=np.unique(test_id)\n",
    "Mask = sparse.csr_matrix((np.ones(testcv.shape[0],int),(test_id, np.arange(testcv.shape[0]))), shape=(newId.shape[0],testcv.shape[0]))\n",
    "\n",
    "testbow = Mask * testRep              \n",
    "\n",
    "if normal:\n",
    "    trainbow = normalize(trainbow, norm='l1', axis=1)\n",
    "    testbow = normalize(testbow, norm='l1', axis=1)\n"
   ]
  },
  {
   "cell_type": "code",
   "execution_count": null,
   "metadata": {},
   "outputs": [],
   "source": [
    "represent_train.memory_usage().sum()/1000000"
   ]
  },
  {
   "cell_type": "code",
   "execution_count": null,
   "metadata": {},
   "outputs": [],
   "source": [
    "test_results = pd.DataFrame(columns=['data_name','method','distance_measure','normalize','rep','depth','ntree','test_acc'])\n",
    "\n",
    "for rep in range(10):\n",
    "\trepresent_train, represent_test, train_id, test_id = prepare_data(X_train,X_test,mode=method)\n",
    "\ttrainbow,testbow = learn_representation(represent_train, represent_test,labels_train,labels_test, train_id, test_id, 8, 500, is_terminal,normal=n)\n",
    "\ttest_accuracy = test_model(trainbow,testbow,labels_train,labels_test,metric = 'euclidean')  \n",
    "\ttemp_results = pd.DataFrame({'data_name':[data_name],'method':method,'distance_measure':[distance_measure],'normalize':[n],'rep':[rep+1],'depth':[depth],'ntree':[200],'type':[is_terminal],'test_acc':[test_accuracy]})\n",
    "\ttest_results = test_results.append(temp_results,sort=False)\n",
    "print(test_results)"
   ]
  },
  {
   "cell_type": "code",
   "execution_count": null,
   "metadata": {},
   "outputs": [],
   "source": [
    "test_results['test_acc'].mean()"
   ]
  },
  {
   "cell_type": "code",
   "execution_count": null,
   "metadata": {},
   "outputs": [],
   "source": [
    "results.groupby(['method','normalize','depth']).mean()"
   ]
  },
  {
   "cell_type": "code",
   "execution_count": null,
   "metadata": {},
   "outputs": [],
   "source": [
    "np.round(time.time()-a,0)"
   ]
  },
  {
   "cell_type": "code",
   "execution_count": null,
   "metadata": {},
   "outputs": [],
   "source": [
    "from sklearn.preprocessing import normalize"
   ]
  },
  {
   "cell_type": "code",
   "execution_count": null,
   "metadata": {},
   "outputs": [],
   "source": []
  },
  {
   "cell_type": "code",
   "execution_count": null,
   "metadata": {},
   "outputs": [],
   "source": []
  },
  {
   "cell_type": "code",
   "execution_count": 11,
   "metadata": {},
   "outputs": [
    {
     "data": {
      "text/plain": [
       "0.6932952924393724"
      ]
     },
     "execution_count": 11,
     "metadata": {},
     "output_type": "execute_result"
    }
   ],
   "source": [
    "np.median([0.688237582674102,\n",
    "0.6925171832447153,\n",
    "0.6965374140837765,\n",
    "0.6932952924393724,\n",
    "0.6932952924393724,\n",
    "0.7028919725068085,\n",
    "0.69303592270782,\n",
    "0.6903125405265206,\n",
    "0.6897938010634159,\n",
    "0.6939437167682532,\n",
    "0.6960186746206718,\n",
    "0.6931656075735961,\n",
    "0.700946699520166,\n",
    "0.6961483594864479,\n",
    "0.6916093891842822,\n",
    "0.6958889897548955,\n",
    "0.6909609648554014,\n",
    "0.6943327713655817])"
   ]
  },
  {
   "cell_type": "code",
   "execution_count": null,
   "metadata": {},
   "outputs": [],
   "source": []
  }
 ],
 "metadata": {
  "kernelspec": {
   "display_name": "Python 3",
   "language": "python",
   "name": "python3"
  },
  "language_info": {
   "codemirror_mode": {
    "name": "ipython",
    "version": 3
   },
   "file_extension": ".py",
   "mimetype": "text/x-python",
   "name": "python",
   "nbconvert_exporter": "python",
   "pygments_lexer": "ipython3",
   "version": "3.7.3"
  }
 },
 "nbformat": 4,
 "nbformat_minor": 4
}
